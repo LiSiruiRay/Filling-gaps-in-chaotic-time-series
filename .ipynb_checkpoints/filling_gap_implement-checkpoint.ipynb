{
 "cells": [
  {
   "metadata": {},
   "cell_type": "markdown",
   "source": [
    "# Demonstration\n",
    "This is a demonstration of my work. This is neither the paper or the software. Simply a naive walk through of my program."
   ],
   "id": "15668de46b025bcb"
  },
  {
   "metadata": {},
   "cell_type": "markdown",
   "source": "# 1. Generate time series data from a dynamic system",
   "id": "616a6e6887052351"
  },
  {
   "metadata": {},
   "cell_type": "markdown",
   "source": "## Setting up libraries",
   "id": "1c48ef62bba39b1b"
  },
  {
   "cell_type": "code",
   "id": "initial_id",
   "metadata": {
    "collapsed": true,
    "ExecuteTime": {
     "end_time": "2024-05-07T12:59:09.880820Z",
     "start_time": "2024-05-07T12:59:09.277042Z"
    }
   },
   "source": [
    "from collections import defaultdict\n",
    "\n",
    "import numpy as np\n",
    "\n",
    "from tools.lorenz import Lorenz63\n",
    "from tools.utils import iterate_solver, Runge_Kutta\n",
    "%matplotlib widget\n"
   ],
   "execution_count": 1,
   "outputs": []
  },
  {
   "metadata": {
    "ExecuteTime": {
     "end_time": "2024-05-07T09:34:47.708441Z",
     "start_time": "2024-05-07T09:34:47.706290Z"
    }
   },
   "cell_type": "code",
   "source": [
    "from pylab import *\n",
    "from mpl_toolkits.mplot3d import Axes3D"
   ],
   "id": "4dbd47a782222386",
   "execution_count": 2,
   "outputs": []
  },
  {
   "metadata": {},
   "cell_type": "markdown",
   "source": "## Here, I am using [Lorenz system](https://en.wikipedia.org/wiki/Lorenz_system) with parameter `s` = 10, `r` = 28, and  `b` = 8/3. This set of parameter gives [all the solution bounded](https://www.math.toronto.edu/kzhang/teaching/courses/mat332-2022/_8-lorenz-system/) (do not escape to infinity). With initial condition: -1, 1, 18.4",
   "id": "4ec2152acc5ae874"
  },
  {
   "metadata": {
    "ExecuteTime": {
     "end_time": "2024-05-07T09:34:49.426299Z",
     "start_time": "2024-05-07T09:34:49.296643Z"
    }
   },
   "cell_type": "code",
   "source": [
    "x, t = iterate_solver(Runge_Kutta, Lorenz63, [-1., 1., 18.4], 0, 0.01, 50.)\n",
    "figure(\"Numerical Solution from 0 to 50\")\n",
    "title(\"Lorenz Attractor Simulation\")\n",
    "plot(t, x[:, 1], 'b-')\n",
    "\n",
    "xlabel(\"Time\")  # Label for the X-axis\n",
    "ylabel(\"Variable State\")\n",
    "show()\n",
    "# matplotlib.pyplot.close()"
   ],
   "id": "6cf5822c1a74e6b7",
   "execution_count": 3,
   "outputs": []
  },
  {
   "metadata": {
    "ExecuteTime": {
     "end_time": "2024-05-07T09:34:53.342138Z",
     "start_time": "2024-05-07T09:34:53.255975Z"
    }
   },
   "cell_type": "code",
   "source": [
    "fig = plt.figure()\n",
    "ax = fig.add_subplot(111, projection='3d')\n",
    "\n",
    "# Scatter plot\n",
    "ax.plot(x[:, 0], x[:, 1], x[:, 2])\n",
    "\n",
    "ax.set_xlabel('X Coordinate')\n",
    "ax.set_ylabel('Y Coordinate')\n",
    "ax.set_zlabel('Z Coordinate')\n",
    "\n",
    "plt.show()"
   ],
   "id": "a74b8d8bc21a3e17",
   "execution_count": 4,
   "outputs": []
  },
  {
   "metadata": {
    "ExecuteTime": {
     "end_time": "2024-05-07T09:35:03.342971Z",
     "start_time": "2024-05-07T09:35:03.339594Z"
    }
   },
   "cell_type": "code",
   "source": "type(x)",
   "id": "95fd7b1ccf344869",
   "execution_count": 5,
   "outputs": []
  },
  {
   "metadata": {
    "ExecuteTime": {
     "end_time": "2024-05-07T09:35:03.784032Z",
     "start_time": "2024-05-07T09:35:03.781016Z"
    }
   },
   "cell_type": "code",
   "source": "len(x)",
   "id": "6b345ee8fa0116e1",
   "execution_count": 6,
   "outputs": []
  },
  {
   "metadata": {
    "ExecuteTime": {
     "end_time": "2024-05-07T09:35:04.170267Z",
     "start_time": "2024-05-07T09:35:04.167976Z"
    }
   },
   "cell_type": "code",
   "source": [
    "import copy\n",
    "x_gapped = copy.deepcopy(x)"
   ],
   "id": "3475fea4a5a718b4",
   "execution_count": 7,
   "outputs": []
  },
  {
   "metadata": {
    "ExecuteTime": {
     "end_time": "2024-05-07T09:35:06.350512Z",
     "start_time": "2024-05-07T09:35:06.347618Z"
    }
   },
   "cell_type": "code",
   "source": [
    "x_gapped[2000:2100] = np.nan\n",
    "len(x_gapped), len(t)"
   ],
   "id": "494c14e4dfea1c37",
   "execution_count": 8,
   "outputs": []
  },
  {
   "metadata": {
    "ExecuteTime": {
     "end_time": "2024-05-07T09:35:06.671231Z",
     "start_time": "2024-05-07T09:35:06.668301Z"
    }
   },
   "cell_type": "code",
   "source": [
    "nan_count = np.sum(np.isnan(x_gapped)) / 3\n",
    "nan_count"
   ],
   "id": "e72b5265afacd03f",
   "execution_count": 9,
   "outputs": []
  },
  {
   "metadata": {
    "ExecuteTime": {
     "end_time": "2024-05-07T09:35:09.795150Z",
     "start_time": "2024-05-07T09:35:09.709237Z"
    }
   },
   "cell_type": "code",
   "source": [
    "fig = plt.figure()\n",
    "plot(t, x_gapped[:, 0], 'b-')\n",
    "plot(t, x_gapped[:, 1], 'r-')\n",
    "plot(t, x_gapped[:, 2], 'g-')\n",
    "\n",
    "ts = x_gapped[:, 0]\n",
    "plt.xlim(min(t), max(t))  # Set x limits to cover the full range of t\n",
    "plt.show()"
   ],
   "id": "1bad257df765f73",
   "execution_count": 10,
   "outputs": []
  },
  {
   "metadata": {
    "ExecuteTime": {
     "end_time": "2024-05-07T09:35:13.283896Z",
     "start_time": "2024-05-07T09:35:13.280537Z"
    }
   },
   "cell_type": "code",
   "source": "len(x_gapped[:, 0]), len(t)",
   "id": "2da715b6e22d0c1b",
   "execution_count": 11,
   "outputs": []
  },
  {
   "metadata": {
    "ExecuteTime": {
     "end_time": "2024-05-07T09:35:14.845917Z",
     "start_time": "2024-05-07T09:35:14.843702Z"
    }
   },
   "cell_type": "code",
   "source": [
    "print(t.shape)\n",
    "print(x_gapped.shape)\n",
    "print(x_gapped[:, 0].shape)"
   ],
   "id": "833a71f1c97c7588",
   "execution_count": 12,
   "outputs": []
  },
  {
   "metadata": {
    "ExecuteTime": {
     "end_time": "2024-05-07T09:36:00.126087Z",
     "start_time": "2024-05-07T09:36:00.039606Z"
    }
   },
   "cell_type": "code",
   "source": [
    "fig = plt.figure()\n",
    "plot(t, ts, 'g-')\n",
    "# matplotlib.pyplot.close()"
   ],
   "id": "fb3be21390599467",
   "execution_count": 13,
   "outputs": []
  },
  {
   "metadata": {
    "ExecuteTime": {
     "end_time": "2024-05-07T09:36:03.388786Z",
     "start_time": "2024-05-07T09:36:03.386009Z"
    }
   },
   "cell_type": "code",
   "source": "len(ts)",
   "id": "ba154b500f326fe0",
   "execution_count": 14,
   "outputs": []
  },
  {
   "metadata": {
    "ExecuteTime": {
     "end_time": "2024-05-07T09:36:03.525807Z",
     "start_time": "2024-05-07T09:36:03.523665Z"
    }
   },
   "cell_type": "code",
   "source": "indices = np.arange(0, len(ts), 10)",
   "id": "7f9382f6bd0a653a",
   "execution_count": 15,
   "outputs": []
  },
  {
   "metadata": {
    "ExecuteTime": {
     "end_time": "2024-05-07T09:36:03.677562Z",
     "start_time": "2024-05-07T09:36:03.674197Z"
    }
   },
   "cell_type": "code",
   "source": "indices",
   "id": "ec36d34316710238",
   "execution_count": 16,
   "outputs": []
  },
  {
   "metadata": {
    "ExecuteTime": {
     "end_time": "2024-05-07T09:36:05.212151Z",
     "start_time": "2024-05-07T09:36:05.210259Z"
    }
   },
   "cell_type": "code",
   "source": "v_1_s = ts[indices]",
   "id": "d88a6317d638a422",
   "execution_count": 17,
   "outputs": []
  },
  {
   "metadata": {
    "ExecuteTime": {
     "end_time": "2024-05-07T09:36:05.569997Z",
     "start_time": "2024-05-07T09:36:05.567741Z"
    }
   },
   "cell_type": "code",
   "source": [
    "indices2 = (indices + 1)\n",
    "indices2 = indices2[:-1]\n",
    "v_2_s = ts[indices2]"
   ],
   "id": "d0274af79e6a78e0",
   "execution_count": 18,
   "outputs": []
  },
  {
   "metadata": {
    "ExecuteTime": {
     "end_time": "2024-05-07T09:36:06.059911Z",
     "start_time": "2024-05-07T09:36:06.058041Z"
    }
   },
   "cell_type": "code",
   "source": "# indices2",
   "id": "7b7a9215c37d987e",
   "execution_count": 19,
   "outputs": []
  },
  {
   "metadata": {
    "ExecuteTime": {
     "end_time": "2024-05-07T09:36:07.296746Z",
     "start_time": "2024-05-07T09:36:07.294720Z"
    }
   },
   "cell_type": "code",
   "source": [
    "indices3 = (indices + 2)\n",
    "indices3 = indices3[:-1]\n",
    "v_3_s = ts[indices3]"
   ],
   "id": "7d7aeb343652b0f5",
   "execution_count": 20,
   "outputs": []
  },
  {
   "metadata": {
    "ExecuteTime": {
     "end_time": "2024-05-07T09:36:07.769377Z",
     "start_time": "2024-05-07T09:36:07.767514Z"
    }
   },
   "cell_type": "code",
   "source": "v_1_s = v_1_s[:-1]",
   "id": "fdc2392e0f2b4b1a",
   "execution_count": 21,
   "outputs": []
  },
  {
   "metadata": {
    "ExecuteTime": {
     "end_time": "2024-05-07T09:36:07.938364Z",
     "start_time": "2024-05-07T09:36:07.936462Z"
    }
   },
   "cell_type": "code",
   "source": "vectors = column_stack((v_1_s, v_2_s, v_3_s))",
   "id": "e5a07770a1fa6fa8",
   "execution_count": 22,
   "outputs": []
  },
  {
   "metadata": {
    "ExecuteTime": {
     "end_time": "2024-05-07T09:36:10.275258Z",
     "start_time": "2024-05-07T09:36:10.272218Z"
    }
   },
   "cell_type": "code",
   "source": "np.sum(np.isnan(vectors))",
   "id": "fe6cd09212784b66",
   "execution_count": 23,
   "outputs": []
  },
  {
   "metadata": {
    "ExecuteTime": {
     "end_time": "2024-05-07T09:36:12.032962Z",
     "start_time": "2024-05-07T09:36:12.030262Z"
    }
   },
   "cell_type": "code",
   "source": [
    "def get_dis_matrix(vectors):\n",
    "    dis_matrix = np.zeros((len(vectors), len(vectors)))\n",
    "    for m, i in enumerate(vectors):\n",
    "        for n, j in enumerate(vectors):\n",
    "            if any(isnan(i)) or any(isnan(j)):\n",
    "                dis_matrix[m, n] = np.inf\n",
    "                continue\n",
    "            if m == n:\n",
    "                dis_matrix[m, n] = np.inf\n",
    "                continue\n",
    "            dis_matrix[m, n] = linalg.norm(i - j)\n",
    "    return dis_matrix\n",
    "                "
   ],
   "id": "e70fa07530345ced",
   "execution_count": 24,
   "outputs": []
  },
  {
   "metadata": {
    "ExecuteTime": {
     "end_time": "2024-05-07T09:36:13.169556Z",
     "start_time": "2024-05-07T09:36:13.166771Z"
    }
   },
   "cell_type": "code",
   "source": "linalg.norm(vectors[0] - vectors[1])",
   "id": "802a00f34fc5d625",
   "execution_count": 25,
   "outputs": []
  },
  {
   "metadata": {
    "ExecuteTime": {
     "end_time": "2024-05-07T09:36:13.572951Z",
     "start_time": "2024-05-07T09:36:13.570249Z"
    }
   },
   "cell_type": "code",
   "source": "vectors",
   "id": "8d59c41053c9d965",
   "execution_count": 26,
   "outputs": []
  },
  {
   "metadata": {
    "ExecuteTime": {
     "end_time": "2024-05-07T09:36:19.781337Z",
     "start_time": "2024-05-07T09:36:18.187961Z"
    }
   },
   "cell_type": "code",
   "source": "dis_matrix = get_dis_matrix(vectors)",
   "id": "729ec112751f5a83",
   "execution_count": 27,
   "outputs": []
  },
  {
   "metadata": {
    "ExecuteTime": {
     "end_time": "2024-05-07T09:36:19.785643Z",
     "start_time": "2024-05-07T09:36:19.782386Z"
    }
   },
   "cell_type": "code",
   "source": "dis_matrix",
   "id": "ab600936090c7d7c",
   "execution_count": 28,
   "outputs": []
  },
  {
   "metadata": {
    "ExecuteTime": {
     "end_time": "2024-05-07T09:36:26.033575Z",
     "start_time": "2024-05-07T09:36:26.031271Z"
    }
   },
   "cell_type": "code",
   "source": "",
   "id": "eeb6ead6f614fba3",
   "execution_count": 28,
   "outputs": []
  },
  {
   "metadata": {
    "ExecuteTime": {
     "end_time": "2024-05-07T09:36:26.495607Z",
     "start_time": "2024-05-07T09:36:26.365207Z"
    }
   },
   "cell_type": "code",
   "source": [
    "fig = plt.figure()\n",
    "ax = fig.add_subplot(111, projection='3d')\n",
    "\n",
    "# Scatter plot\n",
    "ax.plot(vectors[:, 0], vectors[:, 1], vectors[:, 2])\n",
    "\n",
    "ax.set_xlabel('X Coordinate')\n",
    "ax.set_ylabel('Y Coordinate')\n",
    "ax.set_zlabel('Z Coordinate')\n",
    "\n",
    "plt.show()"
   ],
   "id": "fb24057f562e162f",
   "execution_count": 29,
   "outputs": []
  },
  {
   "metadata": {
    "ExecuteTime": {
     "end_time": "2024-05-07T09:36:36.029212Z",
     "start_time": "2024-05-07T09:36:36.027217Z"
    }
   },
   "cell_type": "code",
   "source": "# !pip install ipympl",
   "id": "9186658c53804311",
   "execution_count": 30,
   "outputs": []
  },
  {
   "metadata": {
    "ExecuteTime": {
     "end_time": "2024-05-07T09:36:37.534448Z",
     "start_time": "2024-05-07T09:36:37.452264Z"
    }
   },
   "cell_type": "code",
   "source": [
    "fig = plt.figure()\n",
    "plot(arange(len(vectors)), vectors[:, 0], 'g-')\n",
    "plot(arange(len(vectors)), vectors[:, 1], 'r-')\n",
    "plot(arange(len(vectors)), vectors[:, 2], 'b-')"
   ],
   "id": "af98e9ddd3020787",
   "execution_count": 31,
   "outputs": []
  },
  {
   "metadata": {
    "ExecuteTime": {
     "end_time": "2024-05-07T09:36:43.999316Z",
     "start_time": "2024-05-07T09:36:43.996760Z"
    }
   },
   "cell_type": "code",
   "source": [
    "def get_breaking_points(vectors):\n",
    "    # Create a boolean mask where each sub-array is checked for NaN\n",
    "    contains_nan = np.array([np.any(np.isnan(vector)) for vector in vectors])\n",
    "    \n",
    "    # Find the index of the first sub-array containing NaN\n",
    "    first_nan_index = np.argmax(contains_nan)\n",
    "    # first_with_nan = arrays[first_nan_index] if np.any(contains_nan) else None\n",
    "    \n",
    "    # Find the index of the last sub-array containing NaN\n",
    "    # np.max(np.where(contains_nan)[0]) provides the last index with True\n",
    "    last_nan_index = np.max(np.where(contains_nan)[0]) if np.any(contains_nan) else None\n",
    "    # last_with_nan = arrays[last_nan_index] if last_nan_index is not None else None\n",
    "    \n",
    "    return first_nan_index, last_nan_index"
   ],
   "id": "9c26e0f7f62ebb9b",
   "execution_count": 32,
   "outputs": []
  },
  {
   "metadata": {
    "ExecuteTime": {
     "end_time": "2024-05-07T09:36:45.279661Z",
     "start_time": "2024-05-07T09:36:45.276664Z"
    }
   },
   "cell_type": "code",
   "source": "first_nan_index, last_nan_index = get_breaking_points(vectors)",
   "id": "2b51e65857ad5ae5",
   "execution_count": 33,
   "outputs": []
  },
  {
   "metadata": {
    "ExecuteTime": {
     "end_time": "2024-05-07T09:36:45.459367Z",
     "start_time": "2024-05-07T09:36:45.456873Z"
    }
   },
   "cell_type": "code",
   "source": "first_nan_index",
   "id": "71f94805b173eb83",
   "execution_count": 34,
   "outputs": []
  },
  {
   "metadata": {
    "ExecuteTime": {
     "end_time": "2024-05-07T09:36:45.965939Z",
     "start_time": "2024-05-07T09:36:45.963019Z"
    }
   },
   "cell_type": "code",
   "source": "last_nan_index",
   "id": "65527de49699359e",
   "execution_count": 35,
   "outputs": []
  },
  {
   "metadata": {
    "ExecuteTime": {
     "end_time": "2024-05-07T09:36:47.546196Z",
     "start_time": "2024-05-07T09:36:47.543113Z"
    }
   },
   "cell_type": "code",
   "source": "vectors[first_nan_index - 1]",
   "id": "c5e98d0935d75de1",
   "execution_count": 36,
   "outputs": []
  },
  {
   "metadata": {
    "ExecuteTime": {
     "end_time": "2024-05-07T09:36:49.636498Z",
     "start_time": "2024-05-07T09:36:49.633784Z"
    }
   },
   "cell_type": "code",
   "source": "vectors[last_nan_index]",
   "id": "9c229151d64351c3",
   "execution_count": 37,
   "outputs": []
  },
  {
   "metadata": {
    "ExecuteTime": {
     "end_time": "2024-05-07T09:36:51.745404Z",
     "start_time": "2024-05-07T09:36:51.743440Z"
    }
   },
   "cell_type": "code",
   "source": [
    "last_valid_v_index = first_nan_index - 1\n",
    "next_valid_v_index = last_nan_index + 1\n",
    "l = next_valid_v_index - last_valid_v_index"
   ],
   "id": "517ad33b6174f700",
   "execution_count": 38,
   "outputs": []
  },
  {
   "metadata": {
    "ExecuteTime": {
     "end_time": "2024-05-07T09:36:54.448697Z",
     "start_time": "2024-05-07T09:36:54.443903Z"
    }
   },
   "cell_type": "code",
   "source": "dis_matrix[last_valid_v_index]",
   "id": "f137fe37d0dd9e8f",
   "execution_count": 39,
   "outputs": []
  },
  {
   "metadata": {
    "ExecuteTime": {
     "end_time": "2024-05-07T09:36:56.230894Z",
     "start_time": "2024-05-07T09:36:56.228811Z"
    }
   },
   "cell_type": "code",
   "source": "closest_point_index = np.argmin(dis_matrix[last_valid_v_index])",
   "id": "ceb098f86d3684d5",
   "execution_count": 40,
   "outputs": []
  },
  {
   "metadata": {
    "ExecuteTime": {
     "end_time": "2024-05-07T09:36:56.693528Z",
     "start_time": "2024-05-07T09:36:56.690841Z"
    }
   },
   "cell_type": "code",
   "source": "closest_point_index",
   "id": "544c1e4c68f7db90",
   "execution_count": 41,
   "outputs": []
  },
  {
   "metadata": {
    "ExecuteTime": {
     "end_time": "2024-05-07T09:36:57.993625Z",
     "start_time": "2024-05-07T09:36:57.990937Z"
    }
   },
   "cell_type": "code",
   "source": "dis_matrix[last_valid_v_index, closest_point_index]",
   "id": "aa4a1a292adb1a14",
   "execution_count": 42,
   "outputs": []
  },
  {
   "metadata": {
    "ExecuteTime": {
     "end_time": "2024-05-07T09:36:58.510909Z",
     "start_time": "2024-05-07T09:36:58.506250Z"
    }
   },
   "cell_type": "code",
   "source": "vectors[closest_point_index], vectors[first_nan_index - 1], first_nan_index - 1, closest_point_index",
   "id": "e569266a5c8dedb5",
   "execution_count": 43,
   "outputs": []
  },
  {
   "metadata": {},
   "cell_type": "raw",
   "source": [
    "1      2      3\n",
    "\n",
    "\n",
    "\n",
    "            x(3, 1)\n",
    "            /\n",
    "    x(2, 1)\n",
    "            \\\n",
    "    /       x(3, 2)\n",
    "    \n",
    "x(1)        \n",
    "            \n",
    "    \\       x(3, 3)\n",
    "           /\n",
    "     x(2, 2)\n",
    "            \\\n",
    "            x(3, 4)\n",
    "\n",
    "\n",
    "\n",
    "\n"
   ],
   "id": "61ca63a4ee876faa"
  },
  {
   "metadata": {
    "ExecuteTime": {
     "end_time": "2024-05-07T09:37:01.434270Z",
     "start_time": "2024-05-07T09:37:01.426844Z"
    }
   },
   "cell_type": "code",
   "source": [
    "# def get_closest_point_index()\n",
    "def get_one_branch(index: int, vectors: np.array, rest_steps: int, forward_branches_df: dict ,forward_branches_df_reverse,  forward: bool = True):\n",
    "    # root_node = vectors[index]\n",
    "    # forward_branches_df[index]\n",
    "    # rest steps = l - j \n",
    "    \n",
    "    #        next_node\n",
    "    #         /\n",
    "    # vectors[index] \n",
    "    #         \\\n",
    "    #        next_node_2\n",
    "    \n",
    "    step = 1 if forward else -1\n",
    "    \n",
    "    curr_root = index\n",
    "    curr_child = curr_root + step\n",
    "    print(\"start of the branch -------\")\n",
    "    for i in range(rest_steps):\n",
    "        if curr_child >= len(vectors):\n",
    "            # print(f\"curr_child: {curr_child}\")\n",
    "            break\n",
    "        if np.any(isnan(vectors[curr_child])):\n",
    "            print(f\"curr_child is NaN\")\n",
    "            break\n",
    "        forward_branches_df[curr_root].add(curr_child)\n",
    "        forward_branches_df_reverse[curr_child] = curr_root\n",
    "        # print(f\"check vectors[curr_child]: {vectors[curr_child]}\")\n",
    "        # forward_branches_bf[curr_layer_num + i].append(curr_root)\n",
    "        curr_root = curr_root + step\n",
    "        curr_child = curr_root + step\n",
    "    \n",
    "    print(f\"finished current branch -------- \")\n",
    "    \n",
    "    return forward_branches_df, forward_branches_df_reverse\n",
    "\n",
    "def get_branches_forward(last_valid_v_index: int, next_valid_v_index: int, n_f: int, r: int, vectors: np.array, dis_matrix: np.array):\n",
    "    # TODO: finish the second condition: or until a valid seccussor\n",
    "    \n",
    "    l = next_valid_v_index - last_valid_v_index - 1\n",
    "    # layer_num = (l // r) + 1 # +1 to make give some extra space\n",
    "    \n",
    "    forward_branches_df = defaultdict(set)\n",
    "    forward_branches_df_reverse = dict()\n",
    "    # forward_branches_bf = [[] for _ in range(layer_num)]\n",
    "    \n",
    "    # get_one_branch(index = last_valid_v_index, vectors=vectors, rest_steps=l - last_valid_v_index, forward_branches_df=forward_branches_df, forward_branches_bf=forward_branches_bf, curr_layer_num=0)\n",
    "    \n",
    "    curr_node_index = last_valid_v_index \n",
    "    \n",
    "    for i in range(n_f): # + 1 because zero included\n",
    "        if last_valid_v_index + (i * (1 + r)) >= next_valid_v_index:\n",
    "            break\n",
    "        print(\"test\")\n",
    "        # jump_to_node_index = last_valid_v_index + ((i + 1) * r)\n",
    "        jump_to_index = np.argmin(dis_matrix[curr_node_index])\n",
    "        print(f\"step: {i}\")\n",
    "        print(f\"jump_to_index: {jump_to_index}\")\n",
    "        forward_branches_df[curr_node_index].add(jump_to_index)\n",
    "        forward_branches_df_reverse[jump_to_index] = curr_node_index\n",
    "        forward_branches_df, forward_branches_df_reverse = get_one_branch(index = jump_to_index, vectors=vectors, rest_steps= l - (i * (r + 1)) - 1, forward_branches_df=forward_branches_df, forward = True, forward_branches_df_reverse = forward_branches_df_reverse)\n",
    "        curr_node_index = jump_to_index + r\n",
    "    return forward_branches_df, forward_branches_df_reverse\n",
    "\n",
    "def get_branches_backward(last_valid_v_index: int, next_valid_v_index: int, n_b: int, r: int, vectors: np.array, dis_matrix: np.array):\n",
    "    # TODO: finish the second condition: or until a valid seccussor\n",
    "    \n",
    "    l = next_valid_v_index - last_valid_v_index - 1\n",
    "    # layer_num = (l // r) + 1 # +1 to make give some extra space\n",
    "    \n",
    "    back_branches_df = defaultdict(set)\n",
    "    back_branches_df_reverse = dict()\n",
    "    # forward_branches_bf = [[] for _ in range(layer_num)]\n",
    "    \n",
    "    # get_one_branch(index = last_valid_v_index, vectors=vectors, rest_steps=l - last_valid_v_index, forward_branches_df=forward_branches_df, forward_branches_bf=forward_branches_bf, curr_layer_num=0)\n",
    "    \n",
    "    curr_node_index = next_valid_v_index \n",
    "    \n",
    "    for i in range(n_b): # + 1 because zero included\n",
    "        if last_valid_v_index + (i * (1 + r)) >= next_valid_v_index:\n",
    "            break\n",
    "        print(\"test\")\n",
    "        # jump_to_node_index = last_valid_v_index + ((i + 1) * r)\n",
    "        jump_to_index = np.argmin(dis_matrix[curr_node_index])\n",
    "        # print(f\"step: {i}\")\n",
    "        # print(f\"jump_to_index: {jump_to_index}\")\n",
    "        back_branches_df[curr_node_index].add(jump_to_index)\n",
    "        back_branches_df_reverse[jump_to_index] = curr_node_index\n",
    "        back_branches_df, back_branches_df_reverse = get_one_branch(index = jump_to_index, vectors=vectors, rest_steps= l - (i * (r + 1)) - 1, forward_branches_df=back_branches_df, forward_branches_df_reverse=back_branches_df_reverse,  forward = False)\n",
    "        curr_node_index = jump_to_index - r\n",
    "    return back_branches_df, back_branches_df_reverse"
   ],
   "id": "d6758d3cf9926e4",
   "execution_count": 44,
   "outputs": []
  },
  {
   "metadata": {
    "ExecuteTime": {
     "end_time": "2024-05-07T09:37:03.390442Z",
     "start_time": "2024-05-07T09:37:03.387467Z"
    }
   },
   "cell_type": "code",
   "source": [
    "forward_branches_df, forward_branches_df_reverse = get_branches_forward(last_valid_v_index=last_valid_v_index, \n",
    "                                   next_valid_v_index=next_valid_v_index, \n",
    "                                   n_f=5, r=2, vectors=vectors, dis_matrix=dis_matrix)"
   ],
   "id": "fb0205df54fd9c57",
   "execution_count": 45,
   "outputs": []
  },
  {
   "metadata": {
    "ExecuteTime": {
     "end_time": "2024-05-07T09:37:06.175508Z",
     "start_time": "2024-05-07T09:37:06.172153Z"
    }
   },
   "cell_type": "code",
   "source": "vectors[closest_point_index], vectors[first_nan_index - 1], last_valid_v_index, next_valid_v_index, next_valid_v_index - last_valid_v_index",
   "id": "a27d7e7efe82ff0d",
   "execution_count": 46,
   "outputs": []
  },
  {
   "metadata": {
    "ExecuteTime": {
     "end_time": "2024-05-07T09:37:07.891565Z",
     "start_time": "2024-05-07T09:37:07.888507Z"
    }
   },
   "cell_type": "code",
   "source": "forward_branches_df_reverse",
   "id": "cac33da44bf2c4e",
   "execution_count": 47,
   "outputs": []
  },
  {
   "metadata": {
    "ExecuteTime": {
     "end_time": "2024-05-07T09:37:09.382936Z",
     "start_time": "2024-05-07T09:37:09.379855Z"
    }
   },
   "cell_type": "code",
   "source": "forward_branches_df",
   "id": "583f8933cc39958b",
   "execution_count": 48,
   "outputs": []
  },
  {
   "metadata": {
    "ExecuteTime": {
     "end_time": "2024-05-07T09:37:09.951373Z",
     "start_time": "2024-05-07T09:37:09.948565Z"
    }
   },
   "cell_type": "code",
   "source": [
    "backward_branches_df, back_branches_df_reverse = get_branches_backward(last_valid_v_index=last_valid_v_index, \n",
    "                                   next_valid_v_index=next_valid_v_index, \n",
    "                                   n_b=5, r=2, vectors=vectors, dis_matrix=dis_matrix)"
   ],
   "id": "5dac669c7c00119e",
   "execution_count": 49,
   "outputs": []
  },
  {
   "metadata": {
    "ExecuteTime": {
     "end_time": "2024-05-07T09:37:11.205357Z",
     "start_time": "2024-05-07T09:37:11.202520Z"
    }
   },
   "cell_type": "code",
   "source": "back_branches_df_reverse",
   "id": "31799f9b37baced6",
   "execution_count": 50,
   "outputs": []
  },
  {
   "metadata": {
    "ExecuteTime": {
     "end_time": "2024-05-07T09:37:12.809739Z",
     "start_time": "2024-05-07T09:37:12.805984Z"
    }
   },
   "cell_type": "code",
   "source": "backward_branches_df",
   "id": "8051df8fb1ed576b",
   "execution_count": 51,
   "outputs": []
  },
  {
   "metadata": {
    "ExecuteTime": {
     "end_time": "2024-05-07T09:37:15.448421Z",
     "start_time": "2024-05-07T09:37:15.445528Z"
    }
   },
   "cell_type": "code",
   "source": [
    "def tree_to_layers(tree, queue):\n",
    "    layers = []\n",
    "    # queue = [(\"root\", 0)]  # Queue of tuples (node, layer_index)\n",
    "\n",
    "    while queue:\n",
    "        current_node, layer = queue.pop(0)\n",
    "        \n",
    "        # Ensure the layer exists in the layers list\n",
    "        if len(layers) <= layer:\n",
    "            layers.append([])\n",
    "        \n",
    "        # Append the current node to its respective layer\n",
    "        layers[layer].append(current_node)\n",
    "        \n",
    "        # Enqueue all children of the current node\n",
    "        for child in tree.get(current_node, []):\n",
    "            queue.append((child, layer + 1))\n",
    "    \n",
    "    return layers\n",
    "\n",
    "# Example tree\n",
    "tree = {\n",
    "    \"root\": [\"child1\", \"child2\"],\n",
    "    \"child1\": [\"grandchild1\", \"grandchild2\", \"grandchild3\"],\n",
    "    \"grandchild2\": [\"a\", 'b', \"c\"],\n",
    "    \"child2\": [\"child2's child1\", \"child2's child3\"],\n",
    "}\n",
    "\n",
    "# Convert tree to layers\n",
    "# layers = tree_to_layers(tree)\n",
    "# print(layers)\n"
   ],
   "id": "f0a09d1fbe29e661",
   "execution_count": 52,
   "outputs": []
  },
  {
   "metadata": {
    "ExecuteTime": {
     "end_time": "2024-05-07T09:37:18.167916Z",
     "start_time": "2024-05-07T09:37:18.165819Z"
    }
   },
   "cell_type": "code",
   "source": "forward_layer = tree_to_layers(forward_branches_df, queue = [(199, 0)])",
   "id": "6795ce073d54dc7f",
   "execution_count": 53,
   "outputs": []
  },
  {
   "metadata": {
    "ExecuteTime": {
     "end_time": "2024-05-07T09:37:18.747038Z",
     "start_time": "2024-05-07T09:37:18.743942Z"
    }
   },
   "cell_type": "code",
   "source": "forward_layer",
   "id": "d8d38d58ea1abc62",
   "execution_count": 54,
   "outputs": []
  },
  {
   "metadata": {
    "ExecuteTime": {
     "end_time": "2024-05-07T09:37:20.053244Z",
     "start_time": "2024-05-07T09:37:20.050709Z"
    }
   },
   "cell_type": "code",
   "source": "len(forward_layer)",
   "id": "a2418d63ec2e0045",
   "execution_count": 55,
   "outputs": []
  },
  {
   "metadata": {
    "ExecuteTime": {
     "end_time": "2024-05-07T09:37:20.618145Z",
     "start_time": "2024-05-07T09:37:20.616066Z"
    }
   },
   "cell_type": "code",
   "source": "backward_layer = tree_to_layers(backward_branches_df, queue = [(210, 0)])",
   "id": "5bdeb13428a6fa5e",
   "execution_count": 56,
   "outputs": []
  },
  {
   "metadata": {
    "ExecuteTime": {
     "end_time": "2024-05-07T09:37:21.330958Z",
     "start_time": "2024-05-07T09:37:21.327790Z"
    }
   },
   "cell_type": "code",
   "source": "backward_layer",
   "id": "56479b21dd35193d",
   "execution_count": 57,
   "outputs": []
  },
  {
   "metadata": {
    "ExecuteTime": {
     "end_time": "2024-05-07T09:37:21.756394Z",
     "start_time": "2024-05-07T09:37:21.753726Z"
    }
   },
   "cell_type": "code",
   "source": "len(backward_layer)",
   "id": "625fa7179f134266",
   "execution_count": 58,
   "outputs": []
  },
  {
   "metadata": {
    "ExecuteTime": {
     "end_time": "2024-05-07T09:37:23.384591Z",
     "start_time": "2024-05-07T09:37:23.380845Z"
    }
   },
   "cell_type": "code",
   "source": [
    "def get_closest_points_layer(vectors, forward_layer, backward_layer):\n",
    "    l = len(forward_layer) - 1\n",
    "    closest_dis = float('inf')\n",
    "    closest_forward_index = 0\n",
    "    closest_forward_index_sub = 0\n",
    "    closest_backward_index_sub = 0\n",
    "    for i in range(l):\n",
    "        forward_vectors = forward_layer[i]\n",
    "        backward_vectors = backward_layer[l - i]\n",
    "        forward_sub_index, backward_sub_index, dis = get_closest_points_one_layer(vectors, forward_vectors, backward_vectors)\n",
    "        if dis < closest_dis:\n",
    "            closest_dis = dis\n",
    "            closest_forward_index = i\n",
    "            closest_forward_index_sub = forward_sub_index\n",
    "            closest_backward_index_sub = backward_sub_index\n",
    "    return closest_dis, closest_forward_index, closest_forward_index_sub, closest_backward_index_sub\n",
    "\n",
    "def get_closest_points_one_layer(vectors, forward_vectors, backward_vectors):\n",
    "    min_dis = float('inf')\n",
    "    forward_sub_index = 0\n",
    "    backward_sub_index = 0\n",
    "    for n, i in enumerate(forward_vectors):\n",
    "        for m, j in enumerate(backward_vectors):\n",
    "            curr_dis = linalg.norm(vectors[i] - vectors[j])\n",
    "            if curr_dis < min_dis:\n",
    "                min_dis = curr_dis\n",
    "                forward_sub_index = n\n",
    "                backward_sub_index = m\n",
    "    return forward_sub_index, backward_sub_index, min_dis"
   ],
   "id": "44a2aa62eddc366e",
   "execution_count": 59,
   "outputs": []
  },
  {
   "metadata": {
    "ExecuteTime": {
     "end_time": "2024-05-07T09:37:24.993506Z",
     "start_time": "2024-05-07T09:37:24.990058Z"
    }
   },
   "cell_type": "code",
   "source": [
    "closest_dis, closest_forward_index, closest_forward_index_sub, closest_backward_index_sub = get_closest_points_layer(vectors=vectors, forward_layer=forward_layer, backward_layer=backward_layer)\n",
    "closest_dis, closest_forward_index, closest_forward_index_sub, closest_backward_index_sub"
   ],
   "id": "aab88587f1ad741c",
   "execution_count": 60,
   "outputs": []
  },
  {
   "metadata": {
    "ExecuteTime": {
     "end_time": "2024-05-07T09:37:27.826518Z",
     "start_time": "2024-05-07T09:37:27.823548Z"
    }
   },
   "cell_type": "code",
   "source": "linalg.norm(vectors[387] - vectors[187])",
   "id": "5f2ed8fc47e355e5",
   "execution_count": 61,
   "outputs": []
  },
  {
   "metadata": {
    "ExecuteTime": {
     "end_time": "2024-05-07T09:37:31.062065Z",
     "start_time": "2024-05-07T09:37:31.059634Z"
    }
   },
   "cell_type": "code",
   "source": "closest_forward_index",
   "id": "d23af3cbe60a2d6a",
   "execution_count": 62,
   "outputs": []
  },
  {
   "metadata": {
    "ExecuteTime": {
     "end_time": "2024-05-07T09:37:33.445669Z",
     "start_time": "2024-05-07T09:37:33.442619Z"
    }
   },
   "cell_type": "code",
   "source": [
    "def get_gap_vector_index_list(closest_forward_index, closest_forward_index_sub, closest_backward_index_sub, forward_branches_df_reverse, backward_branches_df_reverse, forward_layer, backward_layer, l:int):\n",
    "    print(f\"closest_forward_index: {closest_forward_index}\")\n",
    "    forward_vector_index = forward_layer[closest_forward_index][closest_forward_index_sub]\n",
    "    backward_vector_index = backward_layer[l - closest_forward_index][closest_backward_index_sub]\n",
    "    vector_index_list = list()\n",
    "    curr_backward_vector_index = backward_vector_index\n",
    "    curr_forward_vector_index = forward_vector_index\n",
    "    for i in range(closest_forward_index):\n",
    "        vector_index_list.insert(0, curr_forward_vector_index)\n",
    "        curr_forward_vector_index = forward_branches_df_reverse[curr_forward_vector_index]\n",
    "    \n",
    "    for i in range(l - closest_forward_index):\n",
    "        vector_index_list.append(curr_backward_vector_index)\n",
    "        curr_backward_vector_index = backward_branches_df_reverse[curr_backward_vector_index]\n",
    "    \n",
    "    return vector_index_list"
   ],
   "id": "4501559b933f86a7",
   "execution_count": 63,
   "outputs": []
  },
  {
   "metadata": {
    "ExecuteTime": {
     "end_time": "2024-05-07T09:37:34.127357Z",
     "start_time": "2024-05-07T09:37:34.124881Z"
    }
   },
   "cell_type": "code",
   "source": "gap_vector_index_list = get_gap_vector_index_list(closest_forward_index=closest_forward_index, closest_forward_index_sub=closest_forward_index_sub, closest_backward_index_sub=closest_backward_index_sub, forward_layer=forward_layer, backward_layer=backward_layer, forward_branches_df_reverse=forward_branches_df_reverse, backward_branches_df_reverse=back_branches_df_reverse, l = next_valid_v_index - last_valid_v_index - 1)",
   "id": "37c2b39daa9ad4b0",
   "execution_count": 64,
   "outputs": []
  },
  {
   "metadata": {
    "ExecuteTime": {
     "end_time": "2024-05-07T09:37:39.710740Z",
     "start_time": "2024-05-07T09:37:39.708059Z"
    }
   },
   "cell_type": "code",
   "source": "gap_vector_index_list",
   "id": "e775e0b1a8c656f8",
   "execution_count": 65,
   "outputs": []
  },
  {
   "metadata": {
    "ExecuteTime": {
     "end_time": "2024-05-07T09:37:42.163503Z",
     "start_time": "2024-05-07T09:37:42.160880Z"
    }
   },
   "cell_type": "code",
   "source": "len(gap_vector_index_list)",
   "id": "b1c8ac2ef7f410f2",
   "execution_count": 66,
   "outputs": []
  },
  {
   "metadata": {
    "ExecuteTime": {
     "end_time": "2024-05-07T09:38:25.446275Z",
     "start_time": "2024-05-07T09:38:25.443508Z"
    }
   },
   "cell_type": "code",
   "source": "vector_list = [vectors[i] for i in gap_vector_index_list]",
   "id": "7d60fe1ea6f8ac3d",
   "execution_count": 75,
   "outputs": []
  },
  {
   "metadata": {
    "ExecuteTime": {
     "end_time": "2024-05-07T09:38:33.222648Z",
     "start_time": "2024-05-07T09:38:33.219005Z"
    }
   },
   "cell_type": "code",
   "source": [
    "vector_list = row_stack(vector_list)\n",
    "vector_list"
   ],
   "id": "d59ab8a333b9f137",
   "execution_count": 76,
   "outputs": []
  },
  {
   "metadata": {
    "ExecuteTime": {
     "end_time": "2024-05-07T09:38:34.302342Z",
     "start_time": "2024-05-07T09:38:34.300311Z"
    }
   },
   "cell_type": "code",
   "source": [
    "# fig = plt.figure()\n",
    "# ax = fig.add_subplot(111, projection='3d')\n",
    "# \n",
    "# # Scatter plot\n",
    "# ax.plot(vector_list[:, 0], vector_list[:, 1], vector_list[:, 2])\n",
    "# \n",
    "# # Scatter plot\n",
    "# \n",
    "# ax.set_xlabel('X Coordinate')\n",
    "# ax.set_ylabel('Y Coordinate')\n",
    "# ax.set_zlabel('Z Coordinate')\n",
    "# \n",
    "# plt.show()\n",
    "# matplotlib.pyplot.close()"
   ],
   "id": "5b4042bd302f6e38",
   "execution_count": 77,
   "outputs": []
  },
  {
   "metadata": {
    "ExecuteTime": {
     "end_time": "2024-05-07T09:38:34.923913Z",
     "start_time": "2024-05-07T09:38:34.922086Z"
    }
   },
   "cell_type": "code",
   "source": [
    "# vector_sample = vectors[190:220]\n",
    "# ax.plot(vector_sample[:, 0], vector_sample[:, 1], vector_sample[:, 2])"
   ],
   "id": "3f4f91cbb853fbb6",
   "execution_count": 78,
   "outputs": []
  },
  {
   "metadata": {
    "ExecuteTime": {
     "end_time": "2024-05-07T09:38:35.076055Z",
     "start_time": "2024-05-07T09:38:35.074269Z"
    }
   },
   "cell_type": "code",
   "source": [
    "# fig = plt.figure()\n",
    "\n",
    "# vector_sample = vectors[190:220]\n",
    "# ax = fig.add_subplot(111, projection='3d')\n",
    "# \n",
    "# # Scatter plot\n",
    "# ax.plot(vector_sample[:, 0], vector_sample[:, 1], vector_sample[:, 2])\n",
    "# \n",
    "# ax.set_xlabel('X Coordinate')\n",
    "# ax.set_ylabel('Y Coordinate')\n",
    "# ax.set_zlabel('Z Coordinate')\n",
    "# \n",
    "# plt.show()\n",
    "# matplotlib.pyplot.close()"
   ],
   "id": "21020e6f127a20c3",
   "execution_count": 79,
   "outputs": []
  },
  {
   "metadata": {
    "ExecuteTime": {
     "end_time": "2024-05-07T12:39:26.186746Z",
     "start_time": "2024-05-07T12:39:26.180169Z"
    }
   },
   "cell_type": "code",
   "source": "vectors[210]",
   "id": "d69494e10f210cdc",
   "execution_count": 160,
   "outputs": []
  },
  {
   "metadata": {
    "ExecuteTime": {
     "end_time": "2024-05-07T12:39:58.434843Z",
     "start_time": "2024-05-07T12:39:58.282640Z"
    }
   },
   "cell_type": "code",
   "source": [
    "fig = plt.figure()\n",
    "plot(arange(len(vectors)), vectors[:, 0])\n",
    "# plot(t, vector_list[:, 0])"
   ],
   "id": "e6ba4326cd9b1b6c",
   "execution_count": 162,
   "outputs": []
  },
  {
   "metadata": {
    "ExecuteTime": {
     "end_time": "2024-05-07T12:40:19.346500Z",
     "start_time": "2024-05-07T12:40:19.336496Z"
    }
   },
   "cell_type": "code",
   "source": [
    "vector_draw = np.vstack([vectors[199], vector_list, vectors[210]])\n",
    "plot(arange(199, 211), vector_draw[:, 0])"
   ],
   "id": "ac6be0688cf3cdd7",
   "execution_count": 163,
   "outputs": []
  },
  {
   "metadata": {
    "ExecuteTime": {
     "end_time": "2024-05-07T09:38:40.836136Z",
     "start_time": "2024-05-07T09:38:40.833035Z"
    }
   },
   "cell_type": "code",
   "source": "vectors[209]",
   "id": "6688e9d6febac5d5",
   "execution_count": 82,
   "outputs": []
  },
  {
   "metadata": {
    "ExecuteTime": {
     "end_time": "2024-05-07T09:38:41.235100Z",
     "start_time": "2024-05-07T09:38:41.232204Z"
    }
   },
   "cell_type": "code",
   "source": "len(vector_list)",
   "id": "7b2c33dcfeff397d",
   "execution_count": 83,
   "outputs": []
  },
  {
   "metadata": {
    "ExecuteTime": {
     "end_time": "2024-05-07T11:14:28.291093Z",
     "start_time": "2024-05-07T11:14:28.281275Z"
    }
   },
   "cell_type": "code",
   "source": [
    "def get_distance_list(vector, vectors):\n",
    "    dis_list = np.zeros(len(vectors))\n",
    "    for n, j in enumerate(vectors):\n",
    "        if any(isnan(j)):\n",
    "            dis_list[n] = np.inf\n",
    "            continue\n",
    "        dis_list[n] = linalg.norm(vector - j)\n",
    "    return dis_list\n",
    "\n",
    "def F_j_minus_one_half(j: int, vector_list, vectors, t):\n",
    "    # vector_list is the gapped vector\n",
    "    # closes to x_j\n",
    "    # second close to x_j\n",
    "    # predecesor of both\n",
    "    x_j = vector_list[j]\n",
    "    dis_list = get_distance_list(vector=x_j, vectors=vectors)\n",
    "    closest_x_j_index = np.argmin(dis_list)\n",
    "    while closest_x_j_index - 1 < 0 or any(isnan(vectors[closest_x_j_index - 1])):\n",
    "        dis_list[closest_x_j_index] = np.inf\n",
    "        closest_x_j_index = np.argmin(dis_list)\n",
    "    x_j_bar = vectors[closest_x_j_index]\n",
    "    p_x_j_bar = vectors[closest_x_j_index - 1]\n",
    "    \n",
    "    dis_list[closest_x_j_index] = np.inf\n",
    "    sec_closest_x_j_index = np.argmin(dis_list)\n",
    "    \n",
    "    while sec_closest_x_j_index - 1 < 0 or any(isnan(vectors[sec_closest_x_j_index - 1])):\n",
    "        dis_list[sec_closest_x_j_index] = np.inf\n",
    "        sec_closest_x_j_index = np.argmin(dis_list)\n",
    "    \n",
    "    x_j_bar_bar = vectors[sec_closest_x_j_index]\n",
    "    p_x_j_bar_bar = vectors[sec_closest_x_j_index - 1]\n",
    "    delta_t = t[1] - t[0]\n",
    "    \n",
    "    # print(f\"x_j_bar: {x_j_bar}, p_x_j_bar: {p_x_j_bar}, delta_t: {delta_t}, x_j_bar_bar: {x_j_bar_bar}, p_bar_bar_bar: {p_x_j_bar_bar}\")\n",
    "    \n",
    "    return (x_j_bar - p_x_j_bar + x_j_bar_bar - p_x_j_bar_bar) / (2 * delta_t)\n",
    "\n",
    "F_j_minus_one_half(1, vector_list[:, 0], vectors, t)"
   ],
   "id": "cd729937d7931bdb",
   "execution_count": 113,
   "outputs": []
  },
  {
   "metadata": {
    "ExecuteTime": {
     "end_time": "2024-05-07T11:14:30.827620Z",
     "start_time": "2024-05-07T11:14:30.811707Z"
    }
   },
   "cell_type": "code",
   "source": "dis_list = zeros_like(len(vectors))",
   "id": "b234622b41c57ce1",
   "execution_count": 114,
   "outputs": []
  },
  {
   "metadata": {
    "ExecuteTime": {
     "end_time": "2024-05-07T11:28:57.581727Z",
     "start_time": "2024-05-07T11:28:57.578600Z"
    }
   },
   "cell_type": "code",
   "source": [
    "def J1(vector_list, vectors, t):\n",
    "    w = vector_list\n",
    "    l = len(w)\n",
    "    sum_squares = 0\n",
    "    for j in range(l):\n",
    "        delta_w = (w[j] - w[j-1]) / t[j + 1] - t[j]\n",
    "        # print(f\"w[j]: {w[j]}\")\n",
    "        # print(f\"delta_w: {delta_w}\")\n",
    "        F_value = F_j_minus_one_half(j=j, vectors=vectors, vector_list=vector_list, t=t)  # Assuming F is already defined\n",
    "        # print(f\"F_value: {F_value}\")\n",
    "        # sum_squares += (delta_w - F_value)**2\n",
    "        sum_squares += linalg.norm(delta_w - F_value) ** 2\n",
    "    return sum_squares\n",
    "\n",
    "def objective_function_to_minimize(v_f):\n",
    "    vector_list = v_f.reshape((10, 3))\n",
    "    return J1(vector_list, vectors, t)"
   ],
   "id": "44e77c63ff510fe6",
   "execution_count": 142,
   "outputs": []
  },
  {
   "metadata": {
    "ExecuteTime": {
     "end_time": "2024-05-07T11:29:48.682005Z",
     "start_time": "2024-05-07T11:29:18.133622Z"
    }
   },
   "cell_type": "code",
   "source": [
    "from scipy.optimize import minimize\n",
    "\n",
    "result = minimize(objective_function_to_minimize, vector_list.flatten(), method='L-BFGS-B')"
   ],
   "id": "d147cbba067f4e2f",
   "execution_count": 144,
   "outputs": []
  },
  {
   "metadata": {
    "ExecuteTime": {
     "end_time": "2024-05-07T11:29:00.292707Z",
     "start_time": "2024-05-07T11:29:00.258304Z"
    }
   },
   "cell_type": "code",
   "source": "objective_function_to_minimize(vector_list)",
   "id": "f77dc08c2d24effc",
   "execution_count": 143,
   "outputs": []
  },
  {
   "metadata": {
    "ExecuteTime": {
     "end_time": "2024-05-07T11:30:15.458218Z",
     "start_time": "2024-05-07T11:30:15.447662Z"
    }
   },
   "cell_type": "code",
   "source": "result.x",
   "id": "ce7a8300aab28d66",
   "execution_count": 146,
   "outputs": []
  },
  {
   "metadata": {
    "ExecuteTime": {
     "end_time": "2024-05-07T11:30:21.437402Z",
     "start_time": "2024-05-07T11:30:21.433340Z"
    }
   },
   "cell_type": "code",
   "source": "vector_list",
   "id": "f31e27e4c33be0d1",
   "execution_count": 147,
   "outputs": []
  },
  {
   "metadata": {
    "ExecuteTime": {
     "end_time": "2024-05-07T11:30:32.720708Z",
     "start_time": "2024-05-07T11:30:32.713599Z"
    }
   },
   "cell_type": "code",
   "source": "result.fun",
   "id": "3dd8b75feb8b8485",
   "execution_count": 148,
   "outputs": []
  },
  {
   "metadata": {
    "ExecuteTime": {
     "end_time": "2024-05-07T11:32:30.282416Z",
     "start_time": "2024-05-07T11:32:30.280214Z"
    }
   },
   "cell_type": "code",
   "source": "result_array = result.x.reshape((10, 3))",
   "id": "2600fa36330889a1",
   "execution_count": 151,
   "outputs": []
  },
  {
   "metadata": {
    "ExecuteTime": {
     "end_time": "2024-05-07T11:32:51.996557Z",
     "start_time": "2024-05-07T11:32:51.937658Z"
    }
   },
   "cell_type": "code",
   "source": [
    "fig = figure()\n",
    "plot(arange(len(vector_list)), vector_list[:, 0])\n",
    "plot(arange(len(vector_list)), result_array[:, 0])"
   ],
   "id": "86ea778e6e502b86",
   "execution_count": 154,
   "outputs": []
  },
  {
   "metadata": {
    "ExecuteTime": {
     "end_time": "2024-05-07T12:43:49.899330Z",
     "start_time": "2024-05-07T12:43:49.812401Z"
    }
   },
   "cell_type": "code",
   "source": [
    "fig = plt.figure()\n",
    "plot(arange(len(vectors)), vectors[:, 0])\n",
    "result_draw = np.vstack([vectors[199], result_array, vectors[210]])\n",
    "plot(arange(199, 211), result_draw[:, 0])"
   ],
   "id": "6e49326d7bb3804a",
   "execution_count": 167,
   "outputs": []
  },
  {
   "metadata": {},
   "cell_type": "code",
   "execution_count": null,
   "source": "",
   "id": "5c139b28e83400aa",
   "outputs": []
  }
 ],
 "metadata": {
  "kernelspec": {
   "display_name": "Python 3",
   "language": "python",
   "name": "python3"
  },
  "language_info": {
   "codemirror_mode": {
    "name": "ipython",
    "version": 2
   },
   "file_extension": ".py",
   "mimetype": "text/x-python",
   "name": "python",
   "nbconvert_exporter": "python",
   "pygments_lexer": "ipython2",
   "version": "2.7.6"
  }
 },
 "nbformat": 4,
 "nbformat_minor": 5
}
