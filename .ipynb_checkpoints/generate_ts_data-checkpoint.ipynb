{
 "cells": [
  {
   "cell_type": "code",
   "id": "initial_id",
   "metadata": {
    "collapsed": true,
    "ExecuteTime": {
     "end_time": "2024-05-07T09:32:16.129257Z",
     "start_time": "2024-05-07T09:32:15.614384Z"
    }
   },
   "source": [
    "from collections import defaultdict\n",
    "\n",
    "import numpy as np\n",
    "\n",
    "from tools.lorenz import Lorenz63\n",
    "from tools.utils import iterate_solver, Runge_Kutta\n",
    "%matplotlib widget\n"
   ],
   "execution_count": 1,
   "outputs": []
  },
  {
   "metadata": {
    "ExecuteTime": {
     "end_time": "2024-05-07T09:32:16.981342Z",
     "start_time": "2024-05-07T09:32:16.979174Z"
    }
   },
   "cell_type": "code",
   "source": [
    "from pylab import *\n",
    "from mpl_toolkits.mplot3d import Axes3D"
   ],
   "id": "4dbd47a782222386",
   "execution_count": 2,
   "outputs": []
  },
  {
   "metadata": {
    "ExecuteTime": {
     "end_time": "2024-05-07T09:32:37.375608Z",
     "start_time": "2024-05-07T09:32:37.263100Z"
    }
   },
   "cell_type": "code",
   "source": [
    "x, t = iterate_solver(Runge_Kutta, Lorenz63, [-1., 1., 18.4], 0, 0.01, 50.)\n",
    "plot(t, x[:, 1], 'b-')\n",
    "show()\n",
    "# matplotlib.pyplot.close()"
   ],
   "id": "6cf5822c1a74e6b7",
   "execution_count": 5,
   "outputs": []
  },
  {
   "metadata": {
    "ExecuteTime": {
     "end_time": "2024-05-06T23:52:25.972088Z",
     "start_time": "2024-05-06T23:52:25.904228Z"
    }
   },
   "cell_type": "code",
   "source": [
    "fig = plt.figure()\n",
    "ax = fig.add_subplot(111, projection='3d')\n",
    "\n",
    "# Scatter plot\n",
    "ax.plot(x[:, 0], x[:, 1], x[:, 2])\n",
    "\n",
    "ax.set_xlabel('X Coordinate')\n",
    "ax.set_ylabel('Y Coordinate')\n",
    "ax.set_zlabel('Z Coordinate')\n",
    "\n",
    "plt.show()"
   ],
   "id": "a74b8d8bc21a3e17",
   "execution_count": 4,
   "outputs": []
  },
  {
   "metadata": {
    "ExecuteTime": {
     "end_time": "2024-05-06T23:52:31.086095Z",
     "start_time": "2024-05-06T23:52:31.083052Z"
    }
   },
   "cell_type": "code",
   "source": "type(x)",
   "id": "95fd7b1ccf344869",
   "execution_count": 5,
   "outputs": []
  },
  {
   "metadata": {
    "ExecuteTime": {
     "end_time": "2024-05-06T23:52:31.381743Z",
     "start_time": "2024-05-06T23:52:31.379031Z"
    }
   },
   "cell_type": "code",
   "source": "len(x)",
   "id": "6b345ee8fa0116e1",
   "execution_count": 6,
   "outputs": []
  },
  {
   "metadata": {
    "ExecuteTime": {
     "end_time": "2024-05-06T23:52:42.831368Z",
     "start_time": "2024-05-06T23:52:42.829294Z"
    }
   },
   "cell_type": "code",
   "source": [
    "import copy\n",
    "x_gapped = copy.deepcopy(x)"
   ],
   "id": "3475fea4a5a718b4",
   "execution_count": 7,
   "outputs": []
  },
  {
   "metadata": {
    "ExecuteTime": {
     "end_time": "2024-05-06T23:53:03.759387Z",
     "start_time": "2024-05-06T23:53:03.755271Z"
    }
   },
   "cell_type": "code",
   "source": [
    "x_gapped[2000:2100] = np.nan\n",
    "len(x_gapped), len(t)"
   ],
   "id": "494c14e4dfea1c37",
   "execution_count": 11,
   "outputs": []
  },
  {
   "metadata": {
    "ExecuteTime": {
     "end_time": "2024-05-06T23:53:06.826820Z",
     "start_time": "2024-05-06T23:53:06.822021Z"
    }
   },
   "cell_type": "code",
   "source": [
    "nan_count = np.sum(np.isnan(x_gapped)) / 3\n",
    "nan_count"
   ],
   "id": "e72b5265afacd03f",
   "execution_count": 12,
   "outputs": []
  },
  {
   "metadata": {
    "ExecuteTime": {
     "end_time": "2024-05-06T23:58:06.645527Z",
     "start_time": "2024-05-06T23:58:06.576582Z"
    }
   },
   "cell_type": "code",
   "source": [
    "fig = plt.figure()\n",
    "plot(t, x_gapped[:, 0], 'b-')\n",
    "plot(t, x_gapped[:, 1], 'r-')\n",
    "plot(t, x_gapped[:, 2], 'g-')\n",
    "\n",
    "ts = x_gapped[:, 0]\n",
    "plt.xlim(min(t), max(t))  # Set x limits to cover the full range of t\n",
    "plt.show()"
   ],
   "id": "1bad257df765f73",
   "execution_count": 31,
   "outputs": []
  },
  {
   "metadata": {
    "ExecuteTime": {
     "end_time": "2024-05-06T23:58:07.134475Z",
     "start_time": "2024-05-06T23:58:07.131498Z"
    }
   },
   "cell_type": "code",
   "source": "len(x_gapped[:, 0]), len(t)",
   "id": "2da715b6e22d0c1b",
   "execution_count": 32,
   "outputs": []
  },
  {
   "metadata": {
    "ExecuteTime": {
     "end_time": "2024-05-06T23:58:08.266814Z",
     "start_time": "2024-05-06T23:58:08.264405Z"
    }
   },
   "cell_type": "code",
   "source": [
    "print(t.shape)\n",
    "print(x_gapped.shape)\n",
    "print(x_gapped[:, 0].shape)"
   ],
   "id": "833a71f1c97c7588",
   "execution_count": 33,
   "outputs": []
  },
  {
   "metadata": {
    "ExecuteTime": {
     "end_time": "2024-05-07T03:12:00.138873Z",
     "start_time": "2024-05-07T03:12:00.127571Z"
    }
   },
   "cell_type": "code",
   "source": [
    "fig = plt.figure()\n",
    "plot(t, ts, 'g-')\n",
    "matplotlib.pyplot.close()"
   ],
   "id": "fb3be21390599467",
   "execution_count": 230,
   "outputs": []
  },
  {
   "metadata": {
    "ExecuteTime": {
     "end_time": "2024-05-06T23:58:16.154090Z",
     "start_time": "2024-05-06T23:58:16.151366Z"
    }
   },
   "cell_type": "code",
   "source": "len(ts)",
   "id": "ba154b500f326fe0",
   "execution_count": 35,
   "outputs": []
  },
  {
   "metadata": {
    "ExecuteTime": {
     "end_time": "2024-05-06T23:58:16.598177Z",
     "start_time": "2024-05-06T23:58:16.596057Z"
    }
   },
   "cell_type": "code",
   "source": "indices = np.arange(0, len(ts), 10)",
   "id": "7f9382f6bd0a653a",
   "execution_count": 36,
   "outputs": []
  },
  {
   "metadata": {
    "ExecuteTime": {
     "end_time": "2024-05-06T23:58:19.748497Z",
     "start_time": "2024-05-06T23:58:19.745190Z"
    }
   },
   "cell_type": "code",
   "source": "indices",
   "id": "ec36d34316710238",
   "execution_count": 37,
   "outputs": []
  },
  {
   "metadata": {
    "ExecuteTime": {
     "end_time": "2024-05-06T23:58:29.049842Z",
     "start_time": "2024-05-06T23:58:29.047743Z"
    }
   },
   "cell_type": "code",
   "source": "v_1_s = ts[indices]",
   "id": "d88a6317d638a422",
   "execution_count": 38,
   "outputs": []
  },
  {
   "metadata": {
    "ExecuteTime": {
     "end_time": "2024-05-06T23:58:29.524771Z",
     "start_time": "2024-05-06T23:58:29.522824Z"
    }
   },
   "cell_type": "code",
   "source": [
    "indices2 = (indices + 1)\n",
    "indices2 = indices2[:-1]\n",
    "v_2_s = ts[indices2]"
   ],
   "id": "d0274af79e6a78e0",
   "execution_count": 39,
   "outputs": []
  },
  {
   "metadata": {
    "ExecuteTime": {
     "end_time": "2024-05-07T03:19:12.970907Z",
     "start_time": "2024-05-07T03:19:12.969058Z"
    }
   },
   "cell_type": "code",
   "source": "# indices2",
   "id": "7b7a9215c37d987e",
   "execution_count": 251,
   "outputs": []
  },
  {
   "metadata": {
    "ExecuteTime": {
     "end_time": "2024-05-06T23:58:29.962904Z",
     "start_time": "2024-05-06T23:58:29.960577Z"
    }
   },
   "cell_type": "code",
   "source": [
    "indices3 = (indices + 2)\n",
    "indices3 = indices3[:-1]\n",
    "v_3_s = ts[indices3]"
   ],
   "id": "7d7aeb343652b0f5",
   "execution_count": 40,
   "outputs": []
  },
  {
   "metadata": {
    "ExecuteTime": {
     "end_time": "2024-05-06T23:58:33.563567Z",
     "start_time": "2024-05-06T23:58:33.561540Z"
    }
   },
   "cell_type": "code",
   "source": "v_1_s = v_1_s[:-1]",
   "id": "fdc2392e0f2b4b1a",
   "execution_count": 41,
   "outputs": []
  },
  {
   "metadata": {
    "ExecuteTime": {
     "end_time": "2024-05-06T23:58:34.525093Z",
     "start_time": "2024-05-06T23:58:34.523155Z"
    }
   },
   "cell_type": "code",
   "source": "vectors = column_stack((v_1_s, v_2_s, v_3_s))",
   "id": "e5a07770a1fa6fa8",
   "execution_count": 42,
   "outputs": []
  },
  {
   "metadata": {
    "ExecuteTime": {
     "end_time": "2024-05-07T03:19:32.779253Z",
     "start_time": "2024-05-07T03:19:32.772310Z"
    }
   },
   "cell_type": "code",
   "source": "np.sum(np.isnan(vectors))",
   "id": "fe6cd09212784b66",
   "execution_count": 252,
   "outputs": []
  },
  {
   "metadata": {
    "ExecuteTime": {
     "end_time": "2024-05-06T23:58:37.844769Z",
     "start_time": "2024-05-06T23:58:37.841953Z"
    }
   },
   "cell_type": "code",
   "source": [
    "def get_dis_matrix(vectors):\n",
    "    dis_matrix = np.zeros((len(vectors), len(vectors)))\n",
    "    for m, i in enumerate(vectors):\n",
    "        for n, j in enumerate(vectors):\n",
    "            if any(isnan(i)) or any(isnan(j)):\n",
    "                dis_matrix[m, n] = np.inf\n",
    "                continue\n",
    "            if m == n:\n",
    "                dis_matrix[m, n] = np.inf\n",
    "                continue\n",
    "            dis_matrix[m, n] = linalg.norm(i - j)\n",
    "    return dis_matrix\n",
    "                "
   ],
   "id": "e70fa07530345ced",
   "execution_count": 43,
   "outputs": []
  },
  {
   "metadata": {
    "ExecuteTime": {
     "end_time": "2024-05-06T23:58:40.110430Z",
     "start_time": "2024-05-06T23:58:40.107380Z"
    }
   },
   "cell_type": "code",
   "source": "linalg.norm(vectors[0] - vectors[1])",
   "id": "802a00f34fc5d625",
   "execution_count": 44,
   "outputs": []
  },
  {
   "metadata": {
    "ExecuteTime": {
     "end_time": "2024-05-06T23:58:43.798356Z",
     "start_time": "2024-05-06T23:58:43.795460Z"
    }
   },
   "cell_type": "code",
   "source": "vectors",
   "id": "8d59c41053c9d965",
   "execution_count": 45,
   "outputs": []
  },
  {
   "metadata": {
    "ExecuteTime": {
     "end_time": "2024-05-06T23:58:48.259674Z",
     "start_time": "2024-05-06T23:58:46.716621Z"
    }
   },
   "cell_type": "code",
   "source": "dis_matrix = get_dis_matrix(vectors)",
   "id": "729ec112751f5a83",
   "execution_count": 46,
   "outputs": []
  },
  {
   "metadata": {
    "ExecuteTime": {
     "end_time": "2024-05-06T23:58:50.603272Z",
     "start_time": "2024-05-06T23:58:50.600409Z"
    }
   },
   "cell_type": "code",
   "source": "dis_matrix",
   "id": "ab600936090c7d7c",
   "execution_count": 47,
   "outputs": []
  },
  {
   "metadata": {
    "ExecuteTime": {
     "end_time": "2024-05-06T23:58:56.108150Z",
     "start_time": "2024-05-06T23:58:56.106218Z"
    }
   },
   "cell_type": "code",
   "source": "",
   "id": "eeb6ead6f614fba3",
   "execution_count": 47,
   "outputs": []
  },
  {
   "metadata": {
    "ExecuteTime": {
     "end_time": "2024-05-06T23:58:59.252717Z",
     "start_time": "2024-05-06T23:58:59.120919Z"
    }
   },
   "cell_type": "code",
   "source": [
    "fig = plt.figure()\n",
    "ax = fig.add_subplot(111, projection='3d')\n",
    "\n",
    "# Scatter plot\n",
    "ax.plot(vectors[:, 0], vectors[:, 1], vectors[:, 2])\n",
    "\n",
    "ax.set_xlabel('X Coordinate')\n",
    "ax.set_ylabel('Y Coordinate')\n",
    "ax.set_zlabel('Z Coordinate')\n",
    "\n",
    "plt.show()"
   ],
   "id": "fb24057f562e162f",
   "execution_count": 48,
   "outputs": []
  },
  {
   "metadata": {
    "ExecuteTime": {
     "end_time": "2024-05-06T16:34:56.850230Z",
     "start_time": "2024-05-06T16:34:56.848371Z"
    }
   },
   "cell_type": "code",
   "source": "# !pip install ipympl",
   "id": "9186658c53804311",
   "execution_count": 170,
   "outputs": []
  },
  {
   "metadata": {
    "ExecuteTime": {
     "end_time": "2024-05-06T23:59:09.080355Z",
     "start_time": "2024-05-06T23:59:09.013424Z"
    }
   },
   "cell_type": "code",
   "source": [
    "fig = plt.figure()\n",
    "plot(arange(len(vectors)), vectors[:, 0], 'g-')\n",
    "plot(arange(len(vectors)), vectors[:, 1], 'r-')\n",
    "plot(arange(len(vectors)), vectors[:, 2], 'b-')"
   ],
   "id": "af98e9ddd3020787",
   "execution_count": 49,
   "outputs": []
  },
  {
   "metadata": {
    "ExecuteTime": {
     "end_time": "2024-05-06T23:59:20.613758Z",
     "start_time": "2024-05-06T23:59:20.610799Z"
    }
   },
   "cell_type": "code",
   "source": [
    "def get_breaking_points(vectors):\n",
    "    # Create a boolean mask where each sub-array is checked for NaN\n",
    "    contains_nan = np.array([np.any(np.isnan(vector)) for vector in vectors])\n",
    "    \n",
    "    # Find the index of the first sub-array containing NaN\n",
    "    first_nan_index = np.argmax(contains_nan)\n",
    "    # first_with_nan = arrays[first_nan_index] if np.any(contains_nan) else None\n",
    "    \n",
    "    # Find the index of the last sub-array containing NaN\n",
    "    # np.max(np.where(contains_nan)[0]) provides the last index with True\n",
    "    last_nan_index = np.max(np.where(contains_nan)[0]) if np.any(contains_nan) else None\n",
    "    # last_with_nan = arrays[last_nan_index] if last_nan_index is not None else None\n",
    "    \n",
    "    return first_nan_index, last_nan_index"
   ],
   "id": "9c26e0f7f62ebb9b",
   "execution_count": 50,
   "outputs": []
  },
  {
   "metadata": {
    "ExecuteTime": {
     "end_time": "2024-05-06T23:59:21.723159Z",
     "start_time": "2024-05-06T23:59:21.718936Z"
    }
   },
   "cell_type": "code",
   "source": "first_nan_index, last_nan_index = get_breaking_points(vectors)",
   "id": "2b51e65857ad5ae5",
   "execution_count": 51,
   "outputs": []
  },
  {
   "metadata": {
    "ExecuteTime": {
     "end_time": "2024-05-06T23:59:22.637948Z",
     "start_time": "2024-05-06T23:59:22.635137Z"
    }
   },
   "cell_type": "code",
   "source": "first_nan_index",
   "id": "71f94805b173eb83",
   "execution_count": 52,
   "outputs": []
  },
  {
   "metadata": {
    "ExecuteTime": {
     "end_time": "2024-05-06T23:59:24.177853Z",
     "start_time": "2024-05-06T23:59:24.175278Z"
    }
   },
   "cell_type": "code",
   "source": "last_nan_index",
   "id": "65527de49699359e",
   "execution_count": 53,
   "outputs": []
  },
  {
   "metadata": {
    "ExecuteTime": {
     "end_time": "2024-05-06T23:59:33.736893Z",
     "start_time": "2024-05-06T23:59:33.734145Z"
    }
   },
   "cell_type": "code",
   "source": "vectors[first_nan_index - 1]",
   "id": "c5e98d0935d75de1",
   "execution_count": 54,
   "outputs": []
  },
  {
   "metadata": {
    "ExecuteTime": {
     "end_time": "2024-05-06T23:59:34.426034Z",
     "start_time": "2024-05-06T23:59:34.423311Z"
    }
   },
   "cell_type": "code",
   "source": "vectors[last_nan_index]",
   "id": "9c229151d64351c3",
   "execution_count": 55,
   "outputs": []
  },
  {
   "metadata": {
    "ExecuteTime": {
     "end_time": "2024-05-06T23:59:36.310693Z",
     "start_time": "2024-05-06T23:59:36.308652Z"
    }
   },
   "cell_type": "code",
   "source": [
    "last_valid_v_index = first_nan_index - 1\n",
    "next_valid_v_index = last_nan_index + 1\n",
    "l = next_valid_v_index - last_valid_v_index"
   ],
   "id": "517ad33b6174f700",
   "execution_count": 56,
   "outputs": []
  },
  {
   "metadata": {
    "ExecuteTime": {
     "end_time": "2024-05-06T23:59:42.100702Z",
     "start_time": "2024-05-06T23:59:42.096184Z"
    }
   },
   "cell_type": "code",
   "source": "dis_matrix[last_valid_v_index]",
   "id": "f137fe37d0dd9e8f",
   "execution_count": 57,
   "outputs": []
  },
  {
   "metadata": {
    "ExecuteTime": {
     "end_time": "2024-05-06T23:59:54.756909Z",
     "start_time": "2024-05-06T23:59:54.754949Z"
    }
   },
   "cell_type": "code",
   "source": "closest_point_index = np.argmin(dis_matrix[last_valid_v_index])",
   "id": "ceb098f86d3684d5",
   "execution_count": 58,
   "outputs": []
  },
  {
   "metadata": {
    "ExecuteTime": {
     "end_time": "2024-05-06T23:59:55.686659Z",
     "start_time": "2024-05-06T23:59:55.683931Z"
    }
   },
   "cell_type": "code",
   "source": "closest_point_index",
   "id": "544c1e4c68f7db90",
   "execution_count": 59,
   "outputs": []
  },
  {
   "metadata": {
    "ExecuteTime": {
     "end_time": "2024-05-07T00:00:02.359862Z",
     "start_time": "2024-05-07T00:00:02.356985Z"
    }
   },
   "cell_type": "code",
   "source": "dis_matrix[last_valid_v_index, closest_point_index]",
   "id": "aa4a1a292adb1a14",
   "execution_count": 60,
   "outputs": []
  },
  {
   "metadata": {
    "ExecuteTime": {
     "end_time": "2024-05-07T00:00:03.978588Z",
     "start_time": "2024-05-07T00:00:03.973821Z"
    }
   },
   "cell_type": "code",
   "source": "vectors[closest_point_index], vectors[first_nan_index - 1], first_nan_index - 1, closest_point_index",
   "id": "e569266a5c8dedb5",
   "execution_count": 61,
   "outputs": []
  },
  {
   "metadata": {},
   "cell_type": "raw",
   "source": [
    "1      2      3\n",
    "\n",
    "\n",
    "\n",
    "            x(3, 1)\n",
    "            /\n",
    "    x(2, 1)\n",
    "            \\\n",
    "    /       x(3, 2)\n",
    "    \n",
    "x(1)        \n",
    "            \n",
    "    \\       x(3, 3)\n",
    "           /\n",
    "     x(2, 2)\n",
    "            \\\n",
    "            x(3, 4)\n",
    "\n",
    "\n",
    "\n",
    "\n"
   ],
   "id": "61ca63a4ee876faa"
  },
  {
   "metadata": {
    "ExecuteTime": {
     "end_time": "2024-05-07T02:29:17.512312Z",
     "start_time": "2024-05-07T02:29:17.503183Z"
    }
   },
   "cell_type": "code",
   "source": [
    "# def get_closest_point_index()\n",
    "def get_one_branch(index: int, vectors: np.array, rest_steps: int, forward_branches_df: dict ,forward_branches_df_reverse,  forward: bool = True):\n",
    "    # root_node = vectors[index]\n",
    "    # forward_branches_df[index]\n",
    "    # rest steps = l - j \n",
    "    \n",
    "    #        next_node\n",
    "    #         /\n",
    "    # vectors[index] \n",
    "    #         \\\n",
    "    #        next_node_2\n",
    "    \n",
    "    step = 1 if forward else -1\n",
    "    \n",
    "    curr_root = index\n",
    "    curr_child = curr_root + step\n",
    "    print(\"start of the branch -------\")\n",
    "    for i in range(rest_steps):\n",
    "        if curr_child >= len(vectors):\n",
    "            # print(f\"curr_child: {curr_child}\")\n",
    "            break\n",
    "        if np.any(isnan(vectors[curr_child])):\n",
    "            print(f\"curr_child is NaN\")\n",
    "            break\n",
    "        forward_branches_df[curr_root].add(curr_child)\n",
    "        forward_branches_df_reverse[curr_child] = curr_root\n",
    "        # print(f\"check vectors[curr_child]: {vectors[curr_child]}\")\n",
    "        # forward_branches_bf[curr_layer_num + i].append(curr_root)\n",
    "        curr_root = curr_root + step\n",
    "        curr_child = curr_root + step\n",
    "    \n",
    "    print(f\"finished current branch -------- \")\n",
    "    \n",
    "    return forward_branches_df, forward_branches_df_reverse\n",
    "\n",
    "def get_branches_forward(last_valid_v_index: int, next_valid_v_index: int, n_f: int, r: int, vectors: np.array, dis_matrix: np.array):\n",
    "    # TODO: finish the second condition: or until a valid seccussor\n",
    "    \n",
    "    l = next_valid_v_index - last_valid_v_index - 1\n",
    "    # layer_num = (l // r) + 1 # +1 to make give some extra space\n",
    "    \n",
    "    forward_branches_df = defaultdict(set)\n",
    "    forward_branches_df_reverse = dict()\n",
    "    # forward_branches_bf = [[] for _ in range(layer_num)]\n",
    "    \n",
    "    # get_one_branch(index = last_valid_v_index, vectors=vectors, rest_steps=l - last_valid_v_index, forward_branches_df=forward_branches_df, forward_branches_bf=forward_branches_bf, curr_layer_num=0)\n",
    "    \n",
    "    curr_node_index = last_valid_v_index \n",
    "    \n",
    "    for i in range(n_f): # + 1 because zero included\n",
    "        if last_valid_v_index + (i * (1 + r)) >= next_valid_v_index:\n",
    "            break\n",
    "        print(\"test\")\n",
    "        # jump_to_node_index = last_valid_v_index + ((i + 1) * r)\n",
    "        jump_to_index = np.argmin(dis_matrix[curr_node_index])\n",
    "        print(f\"step: {i}\")\n",
    "        print(f\"jump_to_index: {jump_to_index}\")\n",
    "        forward_branches_df[curr_node_index].add(jump_to_index)\n",
    "        forward_branches_df_reverse[jump_to_index] = curr_node_index\n",
    "        forward_branches_df, forward_branches_df_reverse = get_one_branch(index = jump_to_index, vectors=vectors, rest_steps= l - (i * (r + 1)) - 1, forward_branches_df=forward_branches_df, forward = True, forward_branches_df_reverse = forward_branches_df_reverse)\n",
    "        curr_node_index = jump_to_index + r\n",
    "    return forward_branches_df, forward_branches_df_reverse\n",
    "\n",
    "def get_branches_backward(last_valid_v_index: int, next_valid_v_index: int, n_b: int, r: int, vectors: np.array, dis_matrix: np.array):\n",
    "    # TODO: finish the second condition: or until a valid seccussor\n",
    "    \n",
    "    l = next_valid_v_index - last_valid_v_index - 1\n",
    "    # layer_num = (l // r) + 1 # +1 to make give some extra space\n",
    "    \n",
    "    back_branches_df = defaultdict(set)\n",
    "    back_branches_df_reverse = dict()\n",
    "    # forward_branches_bf = [[] for _ in range(layer_num)]\n",
    "    \n",
    "    # get_one_branch(index = last_valid_v_index, vectors=vectors, rest_steps=l - last_valid_v_index, forward_branches_df=forward_branches_df, forward_branches_bf=forward_branches_bf, curr_layer_num=0)\n",
    "    \n",
    "    curr_node_index = next_valid_v_index \n",
    "    \n",
    "    for i in range(n_b): # + 1 because zero included\n",
    "        if last_valid_v_index + (i * (1 + r)) >= next_valid_v_index:\n",
    "            break\n",
    "        print(\"test\")\n",
    "        # jump_to_node_index = last_valid_v_index + ((i + 1) * r)\n",
    "        jump_to_index = np.argmin(dis_matrix[curr_node_index])\n",
    "        # print(f\"step: {i}\")\n",
    "        # print(f\"jump_to_index: {jump_to_index}\")\n",
    "        back_branches_df[curr_node_index].add(jump_to_index)\n",
    "        back_branches_df_reverse[jump_to_index] = curr_node_index\n",
    "        back_branches_df, back_branches_df_reverse = get_one_branch(index = jump_to_index, vectors=vectors, rest_steps= l - (i * (r + 1)) - 1, forward_branches_df=back_branches_df, forward_branches_df_reverse=back_branches_df_reverse,  forward = False)\n",
    "        curr_node_index = jump_to_index - r\n",
    "    return back_branches_df, back_branches_df_reverse"
   ],
   "id": "d6758d3cf9926e4",
   "execution_count": 194,
   "outputs": []
  },
  {
   "metadata": {
    "ExecuteTime": {
     "end_time": "2024-05-07T02:29:20.791370Z",
     "start_time": "2024-05-07T02:29:20.788112Z"
    }
   },
   "cell_type": "code",
   "source": [
    "forward_branches_df, forward_branches_df_reverse = get_branches_forward(last_valid_v_index=last_valid_v_index, \n",
    "                                   next_valid_v_index=next_valid_v_index, \n",
    "                                   n_f=5, r=2, vectors=vectors, dis_matrix=dis_matrix)"
   ],
   "id": "fb0205df54fd9c57",
   "execution_count": 195,
   "outputs": []
  },
  {
   "metadata": {
    "ExecuteTime": {
     "end_time": "2024-05-07T02:29:23.270945Z",
     "start_time": "2024-05-07T02:29:23.265977Z"
    }
   },
   "cell_type": "code",
   "source": "vectors[closest_point_index], vectors[first_nan_index - 1], last_valid_v_index, next_valid_v_index, next_valid_v_index - last_valid_v_index",
   "id": "a27d7e7efe82ff0d",
   "execution_count": 196,
   "outputs": []
  },
  {
   "metadata": {
    "ExecuteTime": {
     "end_time": "2024-05-07T02:29:24.290023Z",
     "start_time": "2024-05-07T02:29:24.286197Z"
    }
   },
   "cell_type": "code",
   "source": "forward_branches_df_reverse",
   "id": "cac33da44bf2c4e",
   "execution_count": 197,
   "outputs": []
  },
  {
   "metadata": {
    "ExecuteTime": {
     "end_time": "2024-05-07T02:29:25.065774Z",
     "start_time": "2024-05-07T02:29:25.062563Z"
    }
   },
   "cell_type": "code",
   "source": "forward_branches_df",
   "id": "583f8933cc39958b",
   "execution_count": 198,
   "outputs": []
  },
  {
   "metadata": {
    "ExecuteTime": {
     "end_time": "2024-05-07T02:29:29.130874Z",
     "start_time": "2024-05-07T02:29:29.127744Z"
    }
   },
   "cell_type": "code",
   "source": [
    "backward_branches_df, back_branches_df_reverse = get_branches_backward(last_valid_v_index=last_valid_v_index, \n",
    "                                   next_valid_v_index=next_valid_v_index, \n",
    "                                   n_b=5, r=2, vectors=vectors, dis_matrix=dis_matrix)"
   ],
   "id": "5dac669c7c00119e",
   "execution_count": 199,
   "outputs": []
  },
  {
   "metadata": {
    "ExecuteTime": {
     "end_time": "2024-05-07T02:29:35.409660Z",
     "start_time": "2024-05-07T02:29:35.403185Z"
    }
   },
   "cell_type": "code",
   "source": "back_branches_df_reverse",
   "id": "31799f9b37baced6",
   "execution_count": 200,
   "outputs": []
  },
  {
   "metadata": {
    "ExecuteTime": {
     "end_time": "2024-05-07T02:04:44.597533Z",
     "start_time": "2024-05-07T02:04:44.594082Z"
    }
   },
   "cell_type": "code",
   "source": "backward_branches_df",
   "id": "8051df8fb1ed576b",
   "execution_count": 178,
   "outputs": []
  },
  {
   "metadata": {
    "ExecuteTime": {
     "end_time": "2024-05-07T01:55:40.223910Z",
     "start_time": "2024-05-07T01:55:40.220852Z"
    }
   },
   "cell_type": "code",
   "source": [
    "def tree_to_layers(tree, queue):\n",
    "    layers = []\n",
    "    # queue = [(\"root\", 0)]  # Queue of tuples (node, layer_index)\n",
    "\n",
    "    while queue:\n",
    "        current_node, layer = queue.pop(0)\n",
    "        \n",
    "        # Ensure the layer exists in the layers list\n",
    "        if len(layers) <= layer:\n",
    "            layers.append([])\n",
    "        \n",
    "        # Append the current node to its respective layer\n",
    "        layers[layer].append(current_node)\n",
    "        \n",
    "        # Enqueue all children of the current node\n",
    "        for child in tree.get(current_node, []):\n",
    "            queue.append((child, layer + 1))\n",
    "    \n",
    "    return layers\n",
    "\n",
    "# Example tree\n",
    "tree = {\n",
    "    \"root\": [\"child1\", \"child2\"],\n",
    "    \"child1\": [\"grandchild1\", \"grandchild2\", \"grandchild3\"],\n",
    "    \"grandchild2\": [\"a\", 'b', \"c\"],\n",
    "    \"child2\": [\"child2's child1\", \"child2's child3\"],\n",
    "}\n",
    "\n",
    "# Convert tree to layers\n",
    "# layers = tree_to_layers(tree)\n",
    "# print(layers)\n"
   ],
   "id": "f0a09d1fbe29e661",
   "execution_count": 143,
   "outputs": []
  },
  {
   "metadata": {
    "ExecuteTime": {
     "end_time": "2024-05-07T01:55:40.485314Z",
     "start_time": "2024-05-07T01:55:40.483384Z"
    }
   },
   "cell_type": "code",
   "source": "forward_layer = tree_to_layers(forward_branches_df, queue = [(199, 0)])",
   "id": "6795ce073d54dc7f",
   "execution_count": 144,
   "outputs": []
  },
  {
   "metadata": {
    "ExecuteTime": {
     "end_time": "2024-05-07T01:55:40.836040Z",
     "start_time": "2024-05-07T01:55:40.833336Z"
    }
   },
   "cell_type": "code",
   "source": "forward_layer",
   "id": "d8d38d58ea1abc62",
   "execution_count": 145,
   "outputs": []
  },
  {
   "metadata": {
    "ExecuteTime": {
     "end_time": "2024-05-07T01:55:42.644995Z",
     "start_time": "2024-05-07T01:55:42.641544Z"
    }
   },
   "cell_type": "code",
   "source": "len(forward_layer)",
   "id": "a2418d63ec2e0045",
   "execution_count": 146,
   "outputs": []
  },
  {
   "metadata": {
    "ExecuteTime": {
     "end_time": "2024-05-07T02:04:59.830003Z",
     "start_time": "2024-05-07T02:04:59.826914Z"
    }
   },
   "cell_type": "code",
   "source": "backward_layer = tree_to_layers(backward_branches_df, queue = [(210, 0)])",
   "id": "5bdeb13428a6fa5e",
   "execution_count": 180,
   "outputs": []
  },
  {
   "metadata": {
    "ExecuteTime": {
     "end_time": "2024-05-07T02:05:02.265564Z",
     "start_time": "2024-05-07T02:05:02.260003Z"
    }
   },
   "cell_type": "code",
   "source": "backward_layer",
   "id": "56479b21dd35193d",
   "execution_count": 181,
   "outputs": []
  },
  {
   "metadata": {
    "ExecuteTime": {
     "end_time": "2024-05-07T02:05:07.185071Z",
     "start_time": "2024-05-07T02:05:07.180482Z"
    }
   },
   "cell_type": "code",
   "source": "len(backward_layer)",
   "id": "625fa7179f134266",
   "execution_count": 182,
   "outputs": []
  },
  {
   "metadata": {
    "ExecuteTime": {
     "end_time": "2024-05-07T02:21:49.198527Z",
     "start_time": "2024-05-07T02:21:49.192052Z"
    }
   },
   "cell_type": "code",
   "source": [
    "def get_closest_points_layer(vectors, forward_layer, backward_layer):\n",
    "    l = len(forward_layer) - 1\n",
    "    closest_dis = float('inf')\n",
    "    closest_forward_index = 0\n",
    "    closest_forward_index_sub = 0\n",
    "    closest_backward_index_sub = 0\n",
    "    for i in range(l):\n",
    "        forward_vectors = forward_layer[i]\n",
    "        backward_vectors = backward_layer[l - i]\n",
    "        forward_sub_index, backward_sub_index, dis = get_closest_points_one_layer(vectors, forward_vectors, backward_vectors)\n",
    "        if dis < closest_dis:\n",
    "            closest_dis = dis\n",
    "            closest_forward_index = i\n",
    "            closest_forward_index_sub = forward_sub_index\n",
    "            closest_backward_index_sub = backward_sub_index\n",
    "    return closest_dis, closest_forward_index, closest_forward_index_sub, closest_backward_index_sub\n",
    "\n",
    "def get_closest_points_one_layer(vectors, forward_vectors, backward_vectors):\n",
    "    min_dis = float('inf')\n",
    "    forward_sub_index = 0\n",
    "    backward_sub_index = 0\n",
    "    for n, i in enumerate(forward_vectors):\n",
    "        for m, j in enumerate(backward_vectors):\n",
    "            curr_dis = linalg.norm(vectors[i] - vectors[j])\n",
    "            if curr_dis < min_dis:\n",
    "                min_dis = curr_dis\n",
    "                forward_sub_index = n\n",
    "                backward_sub_index = m\n",
    "    return forward_sub_index, backward_sub_index, min_dis"
   ],
   "id": "44a2aa62eddc366e",
   "execution_count": 187,
   "outputs": []
  },
  {
   "metadata": {
    "ExecuteTime": {
     "end_time": "2024-05-07T02:44:14.430477Z",
     "start_time": "2024-05-07T02:44:14.425475Z"
    }
   },
   "cell_type": "code",
   "source": [
    "closest_dis, closest_forward_index, closest_forward_index_sub, closest_backward_index_sub = get_closest_points_layer(vectors=vectors, forward_layer=forward_layer, backward_layer=backward_layer)\n",
    "closest_dis, closest_forward_index, closest_forward_index_sub, closest_backward_index_sub"
   ],
   "id": "aab88587f1ad741c",
   "execution_count": 210,
   "outputs": []
  },
  {
   "metadata": {
    "ExecuteTime": {
     "end_time": "2024-05-07T02:23:07.622775Z",
     "start_time": "2024-05-07T02:23:07.616369Z"
    }
   },
   "cell_type": "code",
   "source": "linalg.norm(vectors[387] - vectors[187])",
   "id": "5f2ed8fc47e355e5",
   "execution_count": 189,
   "outputs": []
  },
  {
   "metadata": {
    "ExecuteTime": {
     "end_time": "2024-05-07T02:44:20.939837Z",
     "start_time": "2024-05-07T02:44:20.936230Z"
    }
   },
   "cell_type": "code",
   "source": "closest_forward_index",
   "id": "d23af3cbe60a2d6a",
   "execution_count": 211,
   "outputs": []
  },
  {
   "metadata": {
    "ExecuteTime": {
     "end_time": "2024-05-07T02:44:55.748218Z",
     "start_time": "2024-05-07T02:44:55.745075Z"
    }
   },
   "cell_type": "code",
   "source": [
    "def get_gap_vector_index_list(closest_forward_index, closest_forward_index_sub, closest_backward_index_sub, forward_branches_df_reverse, backward_branches_df_reverse, forward_layer, backward_layer, l:int):\n",
    "    print(f\"closest_forward_index: {closest_forward_index}\")\n",
    "    forward_vector_index = forward_layer[closest_forward_index][closest_forward_index_sub]\n",
    "    backward_vector_index = backward_layer[l - closest_forward_index][closest_backward_index_sub]\n",
    "    vector_index_list = list()\n",
    "    curr_backward_vector_index = backward_vector_index\n",
    "    curr_forward_vector_index = forward_vector_index\n",
    "    for i in range(closest_forward_index):\n",
    "        vector_index_list.insert(0, curr_forward_vector_index)\n",
    "        curr_forward_vector_index = forward_branches_df_reverse[curr_forward_vector_index]\n",
    "    \n",
    "    for i in range(l - closest_forward_index):\n",
    "        vector_index_list.append(curr_backward_vector_index)\n",
    "        curr_backward_vector_index = backward_branches_df_reverse[curr_backward_vector_index]\n",
    "    \n",
    "    return vector_index_list"
   ],
   "id": "4501559b933f86a7",
   "execution_count": 214,
   "outputs": []
  },
  {
   "metadata": {
    "ExecuteTime": {
     "end_time": "2024-05-07T02:44:55.954078Z",
     "start_time": "2024-05-07T02:44:55.951497Z"
    }
   },
   "cell_type": "code",
   "source": "gap_vector_index_list = get_gap_vector_index_list(closest_forward_index=closest_forward_index, closest_forward_index_sub=closest_forward_index_sub, closest_backward_index_sub=closest_backward_index_sub, forward_layer=forward_layer, backward_layer=backward_layer, forward_branches_df_reverse=forward_branches_df_reverse, backward_branches_df_reverse=back_branches_df_reverse, l = next_valid_v_index - last_valid_v_index - 1)",
   "id": "37c2b39daa9ad4b0",
   "execution_count": 215,
   "outputs": []
  },
  {
   "metadata": {
    "ExecuteTime": {
     "end_time": "2024-05-07T02:44:58.320027Z",
     "start_time": "2024-05-07T02:44:58.317149Z"
    }
   },
   "cell_type": "code",
   "source": "gap_vector_index_list",
   "id": "e775e0b1a8c656f8",
   "execution_count": 216,
   "outputs": []
  },
  {
   "metadata": {
    "ExecuteTime": {
     "end_time": "2024-05-07T02:45:00.069630Z",
     "start_time": "2024-05-07T02:45:00.066762Z"
    }
   },
   "cell_type": "code",
   "source": "len(gap_vector_index_list)",
   "id": "b1c8ac2ef7f410f2",
   "execution_count": 217,
   "outputs": []
  },
  {
   "metadata": {
    "ExecuteTime": {
     "end_time": "2024-05-07T03:06:40.995676Z",
     "start_time": "2024-05-07T03:06:40.984206Z"
    }
   },
   "cell_type": "code",
   "source": "vector_list = [vectors[i] for i in gap_vector_index_list]",
   "id": "7d60fe1ea6f8ac3d",
   "execution_count": 218,
   "outputs": []
  },
  {
   "metadata": {
    "ExecuteTime": {
     "end_time": "2024-05-07T03:08:08.593933Z",
     "start_time": "2024-05-07T03:08:08.590912Z"
    }
   },
   "cell_type": "code",
   "source": [
    "vector_list = column_stack(vector_list)\n",
    "vector_list"
   ],
   "id": "d59ab8a333b9f137",
   "execution_count": 222,
   "outputs": []
  },
  {
   "metadata": {
    "ExecuteTime": {
     "end_time": "2024-05-07T03:14:37.226412Z",
     "start_time": "2024-05-07T03:14:37.215361Z"
    }
   },
   "cell_type": "code",
   "source": [
    "# fig = plt.figure()\n",
    "# ax = fig.add_subplot(111, projection='3d')\n",
    "# \n",
    "# # Scatter plot\n",
    "# ax.plot(vector_list[:, 0], vector_list[:, 1], vector_list[:, 2])\n",
    "# \n",
    "# # Scatter plot\n",
    "# \n",
    "# ax.set_xlabel('X Coordinate')\n",
    "# ax.set_ylabel('Y Coordinate')\n",
    "# ax.set_zlabel('Z Coordinate')\n",
    "# \n",
    "# plt.show()\n",
    "matplotlib.pyplot.close()"
   ],
   "id": "5b4042bd302f6e38",
   "execution_count": 243,
   "outputs": []
  },
  {
   "metadata": {
    "ExecuteTime": {
     "end_time": "2024-05-07T03:14:18.980567Z",
     "start_time": "2024-05-07T03:14:18.976105Z"
    }
   },
   "cell_type": "code",
   "source": [
    "# vector_sample = vectors[190:220]\n",
    "# ax.plot(vector_sample[:, 0], vector_sample[:, 1], vector_sample[:, 2])"
   ],
   "id": "3f4f91cbb853fbb6",
   "execution_count": 242,
   "outputs": []
  },
  {
   "metadata": {
    "ExecuteTime": {
     "end_time": "2024-05-07T03:15:02.940506Z",
     "start_time": "2024-05-07T03:15:02.937759Z"
    }
   },
   "cell_type": "code",
   "source": [
    "# fig = plt.figure()\n",
    "\n",
    "# vector_sample = vectors[190:220]\n",
    "# ax = fig.add_subplot(111, projection='3d')\n",
    "# \n",
    "# # Scatter plot\n",
    "# ax.plot(vector_sample[:, 0], vector_sample[:, 1], vector_sample[:, 2])\n",
    "# \n",
    "# ax.set_xlabel('X Coordinate')\n",
    "# ax.set_ylabel('Y Coordinate')\n",
    "# ax.set_zlabel('Z Coordinate')\n",
    "# \n",
    "# plt.show()\n",
    "# matplotlib.pyplot.close()"
   ],
   "id": "21020e6f127a20c3",
   "execution_count": 245,
   "outputs": []
  },
  {
   "metadata": {
    "ExecuteTime": {
     "end_time": "2024-05-07T03:21:10.359073Z",
     "start_time": "2024-05-07T03:21:10.292159Z"
    }
   },
   "cell_type": "code",
   "source": [
    "fig = plt.figure()\n",
    "plot(arange(len(vectors)), vectors[:, 0])\n",
    "# plot(t, vector_list[:, 0])"
   ],
   "id": "e6ba4326cd9b1b6c",
   "execution_count": 254,
   "outputs": []
  },
  {
   "metadata": {
    "ExecuteTime": {
     "end_time": "2024-05-07T03:22:21.801611Z",
     "start_time": "2024-05-07T03:22:21.794326Z"
    }
   },
   "cell_type": "code",
   "source": "plot(arange(200, 210), vector_list[:, 0])",
   "id": "ac6be0688cf3cdd7",
   "execution_count": 259,
   "outputs": []
  },
  {
   "metadata": {
    "ExecuteTime": {
     "end_time": "2024-05-07T03:22:02.340792Z",
     "start_time": "2024-05-07T03:22:02.335213Z"
    }
   },
   "cell_type": "code",
   "source": "vectors[209]",
   "id": "6688e9d6febac5d5",
   "execution_count": 258,
   "outputs": []
  },
  {
   "metadata": {},
   "cell_type": "code",
   "execution_count": null,
   "source": "",
   "id": "7b2c33dcfeff397d",
   "outputs": []
  }
 ],
 "metadata": {
  "kernelspec": {
   "display_name": "Python 3",
   "language": "python",
   "name": "python3"
  },
  "language_info": {
   "codemirror_mode": {
    "name": "ipython",
    "version": 2
   },
   "file_extension": ".py",
   "mimetype": "text/x-python",
   "name": "python",
   "nbconvert_exporter": "python",
   "pygments_lexer": "ipython2",
   "version": "2.7.6"
  }
 },
 "nbformat": 4,
 "nbformat_minor": 5
}
