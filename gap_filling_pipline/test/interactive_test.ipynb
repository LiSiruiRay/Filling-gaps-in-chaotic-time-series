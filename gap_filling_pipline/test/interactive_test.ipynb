{
 "cells": [
  {
   "cell_type": "code",
   "id": "initial_id",
   "metadata": {
    "collapsed": true,
    "ExecuteTime": {
     "end_time": "2024-05-08T20:15:55.945250Z",
     "start_time": "2024-05-08T20:15:35.953413Z"
    }
   },
   "source": [
    "from scipy.optimize import minimize\n",
    "from gap_filling_pipline.gap_filler import GapFiller\n",
    "from VectorFieldFStrategies.vector_field_f_discrete_mid_point_strategy import VectorFieldFDiscreteMidPointStrategy\n",
    "from FunctionalJStrategies.discrete_j_1_strategy import DiscreteJ1Strategy\n",
    "from data_generator.data_generator import demo_data_generator\n",
    "from MinDistanceStrategies.min_distance_bruteforce_store_all import MinDistanceBruteforceStoreAll\n",
    "\n",
    "mds = MinDistanceBruteforceStoreAll()\n",
    "ts, time_data = demo_data_generator()\n",
    "t = 10\n",
    "m = 3\n",
    "n_f = 5\n",
    "n_b = 5\n",
    "r = 2\n",
    "fjs = DiscreteJ1Strategy()\n",
    "vffs = VectorFieldFDiscreteMidPointStrategy()\n",
    "gp = GapFiller(time_data=time_data, ts=ts, m=m, n_f=n_f, r=r, t=t, n_b=n_b,\n",
    "               mds=mds, fjs=fjs, vffs=vffs, minimize=minimize)\n",
    "gp.get_branches_forward()\n",
    "gp.get_branches_backward()\n",
    "gp.get_closest_points_layer()\n",
    "gp.get_gap_vector_and_index_list()\n",
    "gp.minimize_gap_vectors()\n",
    "print(gp.optimized_gap_vector)\n",
    "print(len(gp.optimized_gap_vector))"
   ],
   "outputs": [
    {
     "name": "stdout",
     "output_type": "stream",
     "text": [
      "ttttest : [ 5.05551509  4.82669811  4.61992915  3.71560034  3.33777858  3.01817183\n",
      "  3.03265382  3.00760224  3.00107208  2.99670141  3.22071146  3.46935054\n",
      "  6.81362238  7.43704498  8.11183327 14.36624236 15.09202655 15.72521661\n",
      " 14.6874298  13.8198078  12.85225828  5.24926152  4.49102355  3.79571776\n",
      "  0.36018002  0.07813448 -0.17586052  5.44579162  5.07061191  4.63750203]\n",
      "[[ 5.05551509  4.82669811  4.61992915]\n",
      " [ 3.71560034  3.33777858  3.01817183]\n",
      " [ 3.03265382  3.00760224  3.00107208]\n",
      " [ 2.99670141  3.22071146  3.46935054]\n",
      " [ 6.81362238  7.43704498  8.11183327]\n",
      " [14.36624236 15.09202655 15.72521661]\n",
      " [14.6874298  13.8198078  12.85225828]\n",
      " [ 5.24926152  4.49102355  3.79571776]\n",
      " [ 0.36018002  0.07813448 -0.17586052]\n",
      " [ 5.44579162  5.07061191  4.63750203]]\n",
      "10\n"
     ]
    }
   ],
   "execution_count": 7
  },
  {
   "metadata": {
    "ExecuteTime": {
     "end_time": "2024-05-08T20:09:42.338461Z",
     "start_time": "2024-05-08T20:09:42.333404Z"
    }
   },
   "cell_type": "code",
   "source": "gp.gap_vector_list == gp.optimized_gap_vector",
   "id": "f3145557fccaf788",
   "outputs": [
    {
     "data": {
      "text/plain": [
       "array([[False, False, False],\n",
       "       [False, False, False],\n",
       "       [False, False, False],\n",
       "       [False, False, False],\n",
       "       [False, False, False],\n",
       "       [False, False, False],\n",
       "       [False, False, False],\n",
       "       [False, False, False],\n",
       "       [False, False, False],\n",
       "       [False, False, False]])"
      ]
     },
     "execution_count": 2,
     "metadata": {},
     "output_type": "execute_result"
    }
   ],
   "execution_count": 2
  },
  {
   "metadata": {
    "ExecuteTime": {
     "end_time": "2024-05-08T20:13:01.918835Z",
     "start_time": "2024-05-08T20:13:01.913283Z"
    }
   },
   "cell_type": "code",
   "source": "gp.optimized_gap_vector",
   "id": "be23c5b8414d2f20",
   "outputs": [
    {
     "data": {
      "text/plain": [
       "array([[ 5.05551509,  4.82669811,  4.61992915],\n",
       "       [ 3.71560034,  3.33777858,  3.01817183],\n",
       "       [ 3.03265382,  3.00760224,  3.00107208],\n",
       "       [ 2.99670141,  3.22071146,  3.46935054],\n",
       "       [ 6.81362238,  7.43704498,  8.11183327],\n",
       "       [14.36624236, 15.09202655, 15.72521661],\n",
       "       [14.6874298 , 13.8198078 , 12.85225828],\n",
       "       [ 5.24926152,  4.49102355,  3.79571776],\n",
       "       [ 0.36018002,  0.07813448, -0.17586052],\n",
       "       [ 5.44579162,  5.07061191,  4.63750203]])"
      ]
     },
     "execution_count": 5,
     "metadata": {},
     "output_type": "execute_result"
    }
   ],
   "execution_count": 5
  },
  {
   "metadata": {},
   "cell_type": "code",
   "outputs": [],
   "execution_count": null,
   "source": "array([5.05551444, 4.8266988 , 4.6199308 ])",
   "id": "acf4b3dab6a16ca4"
  },
  {
   "metadata": {},
   "cell_type": "code",
   "outputs": [],
   "execution_count": null,
   "source": [
    "array([ 5.05551444,  4.8266988 ,  4.6199308 ,  3.71559817,  3.33777618,\n",
    "        3.01817514,  3.0326533 ,  3.00760192,  3.00107178,  2.99669559,\n",
    "        3.22070579,  3.46935596,  6.81363322,  7.43705029,  8.1118388 ,\n",
    "       14.36624821, 15.09203264, 15.72522276, 14.68743542, 13.81981325,\n",
    "       12.85225815,  5.24925082,  4.49102369,  3.79571783,  0.36018015,\n",
    "        0.07813449, -0.17586045,  5.44578309,  5.07061376,  4.63751934])"
   ],
   "id": "5d411f62fb61a9e1"
  },
  {
   "metadata": {},
   "cell_type": "code",
   "outputs": [],
   "execution_count": null,
   "source": "",
   "id": "11bf006ae717f2b4"
  },
  {
   "metadata": {},
   "cell_type": "code",
   "outputs": [],
   "execution_count": null,
   "source": [
    "# [[ 5.05551509  4.82669811  4.61992915]\n",
    "#  [ 3.71560034  3.33777858  3.01817183]\n",
    "#  [ 3.03265382  3.00760224  3.00107208]\n",
    "#  [ 2.99670141  3.22071146  3.46935054]\n",
    "#  [ 6.81362238  7.43704498  8.11183327]\n",
    "#  [14.36624236 15.09202655 15.72521661]\n",
    "#  [14.6874298  13.8198078  12.85225828]\n",
    "#  [ 5.24926152  4.49102355  3.79571776]\n",
    "#  [ 0.36018002  0.07813448 -0.17586052]\n",
    "#  [ 5.44579162  5.07061191  4.63750203]]"
   ],
   "id": "44236bd3b9a708ad"
  }
 ],
 "metadata": {
  "kernelspec": {
   "display_name": "Python 3",
   "language": "python",
   "name": "python3"
  },
  "language_info": {
   "codemirror_mode": {
    "name": "ipython",
    "version": 2
   },
   "file_extension": ".py",
   "mimetype": "text/x-python",
   "name": "python",
   "nbconvert_exporter": "python",
   "pygments_lexer": "ipython2",
   "version": "2.7.6"
  }
 },
 "nbformat": 4,
 "nbformat_minor": 5
}
